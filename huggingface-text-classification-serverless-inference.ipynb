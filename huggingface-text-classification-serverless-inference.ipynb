{
 "cells": [
  {
   "cell_type": "markdown",
   "metadata": {},
   "source": [
    "# SageMaker Serverless Inference\n",
    "## HuggingFace Text Classification example\n",
    "\n",
    "Amazon SageMaker Serverless Inference is a purpose-built inference option that makes it easy for you to deploy and scale ML models. Serverless Inference is ideal for workloads which have idle periods between traffic spurts and can tolerate cold starts. Serverless endpoints automatically launch compute resources and scale them in and out depending on traffic, eliminating the need to choose instance types or manage scaling policies. This takes away the undifferentiated heavy lifting of selecting and managing servers. Serverless Inference integrates with AWS Lambda to offer you high availability, built-in fault tolerance and automatic scaling.\n",
    "\n",
    "Serverless Inference is a great choice for customers that have intermittent or unpredictable prediction traffic. For example, a document processing service used to extract and analyze data on a periodic basis. Customers that choose Serverless Inference should make sure that their workloads can tolerate cold starts. A cold start can occur when your endpoint doesn’t receive traffic for a period of time. It can also occur when your concurrent requests exceed the current request usage. The cold start time will depend on your model size, how long it takes to download, and your container startup time.\n",
    "\n",
    "## Introduction\n",
    "\n",
    "Text Classification can be used to solve various use-cases like sentiment analysis, spam detection, hashtag prediction etc. \n",
    "\n",
    "\n",
    "This notebook demonstrates the use of the [HuggingFace `transformers` library](https://huggingface.co/transformers/) together with a custom Amazon sagemaker-sdk extension to fine-tune a pre-trained transformer on multi class text classification. In particular, the pre-trained model will be fine-tuned using the [`20 newsgroups dataset`](http://qwone.com/~jason/20Newsgroups/). To get started, we need to set up the environment with a few prerequisite steps, for permissions, configurations, and so on.\n",
    "\n",
    "<b>Notebook Setting</b>\n",
    "- <b>SageMaker Classic Notebook Instance</b>: `ml.m5.xlarge` Notebook Instance & `conda_pytorch_p36 Kernel`\n",
    "- <b>SageMaker Studio</b>: `Python 3 (PyTorch 1.6 Python 3.6 CPU Optimized)`\n",
    "- <b>Regions Available</b>: SageMaker Serverless Inference is currently available in the following regions: US East (Northern Virginia), US East (Ohio), US West (Oregon), EU (Ireland), Asia Pacific (Tokyo) and Asia Pacific (Sydney)"
   ]
  },
  {
   "cell_type": "markdown",
   "metadata": {},
   "source": [
    "## Table of Contents\n",
    "- Setup\n",
    "- Data Preprocessing\n",
    "- Model Training\n",
    "- Deployment\n",
    "    - Endpoint Configuration (Adjust for Serverless)\n",
    "    - Serverless Endpoint Creation\n",
    "    - Endpoint Invocation\n",
    "- Cleanup\n",
    "- Conclusion"
   ]
  },
  {
   "cell_type": "markdown",
   "metadata": {},
   "source": [
    "# Development Environment and Permissions "
   ]
  },
  {
   "cell_type": "markdown",
   "metadata": {},
   "source": [
    "## Setup\n",
    "\n",
    "If you run this notebook in SageMaker Studio, you need to make sure `ipywidgets` is installed and restart the kernel, so please uncomment the code in the next cell, and run it."
   ]
  },
  {
   "cell_type": "code",
   "execution_count": 2,
   "metadata": {},
   "outputs": [],
   "source": [
    "%%capture\n",
    "import IPython\n",
    "import sys\n",
    "\n",
    "!{sys.executable} -m pip install ipywidgets\n",
    "IPython.Application.instance().kernel.do_shutdown(True)  # has to restart kernel so changes are used"
   ]
  },
  {
   "cell_type": "markdown",
   "metadata": {},
   "source": [
    "Let's install the required packages from HuggingFace and SageMaker"
   ]
  },
  {
   "cell_type": "code",
   "execution_count": 1,
   "metadata": {},
   "outputs": [
    {
     "name": "stdout",
     "output_type": "stream",
     "text": [
      "Collecting scikit_learn>=1.1.2\n",
      "  Downloading scikit_learn-1.1.2-cp38-cp38-manylinux_2_17_x86_64.manylinux2014_x86_64.whl (31.2 MB)\n",
      "\u001b[2K     \u001b[90m━━━━━━━━━━━━━━━━━━━━━━━━━━━━━━━━━━━━━━━━\u001b[0m \u001b[32m31.2/31.2 MB\u001b[0m \u001b[31m33.6 MB/s\u001b[0m eta \u001b[36m0:00:00\u001b[0m00:01\u001b[0m00:01\u001b[0m\n",
      "\u001b[?25hCollecting sagemaker>=2.110.1\n",
      "  Downloading sagemaker-2.111.0.tar.gz (577 kB)\n",
      "\u001b[2K     \u001b[90m━━━━━━━━━━━━━━━━━━━━━━━━━━━━━━━━━━━━━━━\u001b[0m \u001b[32m577.4/577.4 KB\u001b[0m \u001b[31m7.8 MB/s\u001b[0m eta \u001b[36m0:00:00\u001b[0m00:01\u001b[0m\n",
      "\u001b[?25h  Preparing metadata (setup.py) ... \u001b[?25ldone\n",
      "\u001b[?25hCollecting transformers>=4.21.1\n",
      "  Downloading transformers-4.22.2-py3-none-any.whl (4.9 MB)\n",
      "\u001b[2K     \u001b[90m━━━━━━━━━━━━━━━━━━━━━━━━━━━━━━━━━━━━━━━━\u001b[0m \u001b[32m4.9/4.9 MB\u001b[0m \u001b[31m34.9 MB/s\u001b[0m eta \u001b[36m0:00:00\u001b[0m:00:01\u001b[0m\n",
      "\u001b[?25hCollecting datasets>=2.2.0\n",
      "  Downloading datasets-2.5.2-py3-none-any.whl (432 kB)\n",
      "\u001b[2K     \u001b[90m━━━━━━━━━━━━━━━━━━━━━━━━━━━━━━━━━━━━━━━\u001b[0m \u001b[32m432.7/432.7 KB\u001b[0m \u001b[31m6.4 MB/s\u001b[0m eta \u001b[36m0:00:00\u001b[0m00:01\u001b[0m\n",
      "\u001b[?25hCollecting nltk>=3.4.4\n",
      "  Downloading nltk-3.7-py3-none-any.whl (1.5 MB)\n",
      "\u001b[2K     \u001b[90m━━━━━━━━━━━━━━━━━━━━━━━━━━━━━━━━━━━━━━━━\u001b[0m \u001b[32m1.5/1.5 MB\u001b[0m \u001b[31m16.6 MB/s\u001b[0m eta \u001b[36m0:00:00\u001b[0m:00:01\u001b[0m\n",
      "\u001b[?25hRequirement already satisfied: threadpoolctl>=2.0.0 in /opt/conda/lib/python3.8/site-packages (from scikit_learn>=1.1.2) (2.2.0)\n",
      "Requirement already satisfied: scipy>=1.3.2 in /opt/conda/lib/python3.8/site-packages (from scikit_learn>=1.1.2) (1.8.0)\n",
      "Requirement already satisfied: joblib>=1.0.0 in /opt/conda/lib/python3.8/site-packages (from scikit_learn>=1.1.2) (1.1.0)\n",
      "Requirement already satisfied: numpy>=1.17.3 in /opt/conda/lib/python3.8/site-packages (from scikit_learn>=1.1.2) (1.22.2)\n",
      "Requirement already satisfied: attrs<23,>=20.3.0 in /opt/conda/lib/python3.8/site-packages (from sagemaker>=2.110.1) (20.3.0)\n",
      "Requirement already satisfied: boto3<2.0,>=1.20.21 in /opt/conda/lib/python3.8/site-packages (from sagemaker>=2.110.1) (1.21.13)\n",
      "Requirement already satisfied: google-pasta in /opt/conda/lib/python3.8/site-packages (from sagemaker>=2.110.1) (0.2.0)\n",
      "Requirement already satisfied: protobuf<4.0,>=3.1 in /opt/conda/lib/python3.8/site-packages (from sagemaker>=2.110.1) (3.19.4)\n",
      "Requirement already satisfied: protobuf3-to-dict<1.0,>=0.1.5 in /opt/conda/lib/python3.8/site-packages (from sagemaker>=2.110.1) (0.1.5)\n",
      "Requirement already satisfied: smdebug_rulesconfig==1.0.1 in /opt/conda/lib/python3.8/site-packages (from sagemaker>=2.110.1) (1.0.1)\n",
      "Requirement already satisfied: importlib-metadata<5.0,>=1.4.0 in /opt/conda/lib/python3.8/site-packages (from sagemaker>=2.110.1) (4.11.2)\n",
      "Requirement already satisfied: packaging>=20.0 in /opt/conda/lib/python3.8/site-packages (from sagemaker>=2.110.1) (21.3)\n",
      "Requirement already satisfied: pandas in /opt/conda/lib/python3.8/site-packages (from sagemaker>=2.110.1) (1.4.1)\n",
      "Requirement already satisfied: pathos in /opt/conda/lib/python3.8/site-packages (from sagemaker>=2.110.1) (0.2.8)\n",
      "Collecting schema\n",
      "  Downloading schema-0.7.5-py2.py3-none-any.whl (17 kB)\n",
      "Requirement already satisfied: requests in /opt/conda/lib/python3.8/site-packages (from transformers>=4.21.1) (2.27.1)\n",
      "Collecting regex!=2019.12.17\n",
      "  Downloading regex-2022.9.13-cp38-cp38-manylinux_2_17_x86_64.manylinux2014_x86_64.whl (772 kB)\n",
      "\u001b[2K     \u001b[90m━━━━━━━━━━━━━━━━━━━━━━━━━━━━━━━━━━━━━━\u001b[0m \u001b[32m772.3/772.3 KB\u001b[0m \u001b[31m10.2 MB/s\u001b[0m eta \u001b[36m0:00:00\u001b[0m00:01\u001b[0m\n",
      "\u001b[?25hCollecting tokenizers!=0.11.3,<0.13,>=0.11.1\n",
      "  Downloading tokenizers-0.12.1-cp38-cp38-manylinux_2_12_x86_64.manylinux2010_x86_64.whl (6.6 MB)\n",
      "\u001b[2K     \u001b[90m━━━━━━━━━━━━━━━━━━━━━━━━━━━━━━━━━━━━━━━━\u001b[0m \u001b[32m6.6/6.6 MB\u001b[0m \u001b[31m41.6 MB/s\u001b[0m eta \u001b[36m0:00:00\u001b[0m:00:01\u001b[0m\n",
      "\u001b[?25hCollecting filelock\n",
      "  Downloading filelock-3.8.0-py3-none-any.whl (10 kB)\n",
      "Requirement already satisfied: tqdm>=4.27 in /opt/conda/lib/python3.8/site-packages (from transformers>=4.21.1) (4.62.3)\n",
      "Collecting huggingface-hub<1.0,>=0.9.0\n",
      "  Downloading huggingface_hub-0.10.0-py3-none-any.whl (163 kB)\n",
      "\u001b[2K     \u001b[90m━━━━━━━━━━━━━━━━━━━━━━━━━━━━━━━━━━━━━━━\u001b[0m \u001b[32m163.5/163.5 KB\u001b[0m \u001b[31m2.8 MB/s\u001b[0m eta \u001b[36m0:00:00\u001b[0ma \u001b[36m0:00:01\u001b[0m\n",
      "\u001b[?25hRequirement already satisfied: pyyaml>=5.1 in /opt/conda/lib/python3.8/site-packages (from transformers>=4.21.1) (5.4.1)\n",
      "Collecting xxhash\n",
      "  Downloading xxhash-3.0.0-cp38-cp38-manylinux_2_17_x86_64.manylinux2014_x86_64.whl (212 kB)\n",
      "\u001b[2K     \u001b[90m━━━━━━━━━━━━━━━━━━━━━━━━━━━━━━━━━━━━━━━\u001b[0m \u001b[32m212.1/212.1 KB\u001b[0m \u001b[31m3.4 MB/s\u001b[0m eta \u001b[36m0:00:00\u001b[0ma \u001b[36m0:00:01\u001b[0m\n",
      "\u001b[?25hRequirement already satisfied: multiprocess in /opt/conda/lib/python3.8/site-packages (from datasets>=2.2.0) (0.70.12.2)\n",
      "Collecting aiohttp\n",
      "  Downloading aiohttp-3.8.3-cp38-cp38-manylinux_2_17_x86_64.manylinux2014_x86_64.whl (1.0 MB)\n",
      "\u001b[2K     \u001b[90m━━━━━━━━━━━━━━━━━━━━━━━━━━━━━━━━━━━━━━━━\u001b[0m \u001b[32m1.0/1.0 MB\u001b[0m \u001b[31m12.9 MB/s\u001b[0m eta \u001b[36m0:00:00\u001b[0m:00:01\u001b[0m\n",
      "\u001b[?25hRequirement already satisfied: dill<0.3.6 in /opt/conda/lib/python3.8/site-packages (from datasets>=2.2.0) (0.3.4)\n",
      "Requirement already satisfied: pyarrow>=6.0.0 in /opt/conda/lib/python3.8/site-packages (from datasets>=2.2.0) (7.0.0)\n",
      "Requirement already satisfied: fsspec[http]>=2021.11.1 in /opt/conda/lib/python3.8/site-packages (from datasets>=2.2.0) (2022.2.0)\n",
      "Collecting responses<0.19\n",
      "  Downloading responses-0.18.0-py3-none-any.whl (38 kB)\n",
      "Requirement already satisfied: click in /opt/conda/lib/python3.8/site-packages (from nltk>=3.4.4) (8.0.4)\n",
      "Requirement already satisfied: jmespath<1.0.0,>=0.7.1 in /opt/conda/lib/python3.8/site-packages (from boto3<2.0,>=1.20.21->sagemaker>=2.110.1) (0.10.0)\n",
      "Requirement already satisfied: botocore<1.25.0,>=1.24.13 in /opt/conda/lib/python3.8/site-packages (from boto3<2.0,>=1.20.21->sagemaker>=2.110.1) (1.24.13)\n",
      "Requirement already satisfied: s3transfer<0.6.0,>=0.5.0 in /opt/conda/lib/python3.8/site-packages (from boto3<2.0,>=1.20.21->sagemaker>=2.110.1) (0.5.2)\n",
      "Requirement already satisfied: typing-extensions>=3.7.4.3 in /opt/conda/lib/python3.8/site-packages (from huggingface-hub<1.0,>=0.9.0->transformers>=4.21.1) (4.1.1)\n",
      "Requirement already satisfied: zipp>=0.5 in /opt/conda/lib/python3.8/site-packages (from importlib-metadata<5.0,>=1.4.0->sagemaker>=2.110.1) (3.7.0)\n",
      "Requirement already satisfied: pyparsing!=3.0.5,>=2.0.2 in /opt/conda/lib/python3.8/site-packages (from packaging>=20.0->sagemaker>=2.110.1) (3.0.7)\n",
      "Requirement already satisfied: six in /opt/conda/lib/python3.8/site-packages (from protobuf3-to-dict<1.0,>=0.1.5->sagemaker>=2.110.1) (1.16.0)\n",
      "Requirement already satisfied: certifi>=2017.4.17 in /opt/conda/lib/python3.8/site-packages (from requests->transformers>=4.21.1) (2021.10.8)\n",
      "Requirement already satisfied: urllib3<1.27,>=1.21.1 in /opt/conda/lib/python3.8/site-packages (from requests->transformers>=4.21.1) (1.26.7)\n",
      "Requirement already satisfied: charset-normalizer~=2.0.0 in /opt/conda/lib/python3.8/site-packages (from requests->transformers>=4.21.1) (2.0.4)\n",
      "Requirement already satisfied: idna<4,>=2.5 in /opt/conda/lib/python3.8/site-packages (from requests->transformers>=4.21.1) (3.3)\n",
      "Collecting aiosignal>=1.1.2\n",
      "  Downloading aiosignal-1.2.0-py3-none-any.whl (8.2 kB)\n",
      "Collecting yarl<2.0,>=1.0\n",
      "  Downloading yarl-1.8.1-cp38-cp38-manylinux_2_17_x86_64.manylinux2014_x86_64.whl (262 kB)\n",
      "\u001b[2K     \u001b[90m━━━━━━━━━━━━━━━━━━━━━━━━━━━━━━━━━━━━━━━\u001b[0m \u001b[32m262.1/262.1 KB\u001b[0m \u001b[31m4.3 MB/s\u001b[0m eta \u001b[36m0:00:00\u001b[0m00:01\u001b[0m\n",
      "\u001b[?25hCollecting async-timeout<5.0,>=4.0.0a3\n",
      "  Downloading async_timeout-4.0.2-py3-none-any.whl (5.8 kB)\n",
      "Collecting frozenlist>=1.1.1\n",
      "  Downloading frozenlist-1.3.1-cp38-cp38-manylinux_2_5_x86_64.manylinux1_x86_64.manylinux_2_17_x86_64.manylinux2014_x86_64.whl (161 kB)\n",
      "\u001b[2K     \u001b[90m━━━━━━━━━━━━━━━━━━━━━━━━━━━━━━━━━━━━━━━\u001b[0m \u001b[32m161.3/161.3 KB\u001b[0m \u001b[31m1.8 MB/s\u001b[0m eta \u001b[36m0:00:00\u001b[0ma \u001b[36m0:00:01\u001b[0m\n",
      "\u001b[?25hCollecting multidict<7.0,>=4.5\n",
      "  Downloading multidict-6.0.2-cp38-cp38-manylinux_2_17_x86_64.manylinux2014_x86_64.whl (121 kB)\n",
      "\u001b[2K     \u001b[90m━━━━━━━━━━━━━━━━━━━━━━━━━━━━━━━━━━━━━━━\u001b[0m \u001b[32m121.3/121.3 KB\u001b[0m \u001b[31m2.6 MB/s\u001b[0m eta \u001b[36m0:00:00\u001b[0ma \u001b[36m0:00:01\u001b[0m\n",
      "\u001b[?25hRequirement already satisfied: python-dateutil>=2.8.1 in /opt/conda/lib/python3.8/site-packages (from pandas->sagemaker>=2.110.1) (2.8.2)\n",
      "Requirement already satisfied: pytz>=2020.1 in /opt/conda/lib/python3.8/site-packages (from pandas->sagemaker>=2.110.1) (2021.3)\n",
      "Requirement already satisfied: ppft>=1.6.6.4 in /opt/conda/lib/python3.8/site-packages (from pathos->sagemaker>=2.110.1) (1.6.6.4)\n",
      "Requirement already satisfied: pox>=0.3.0 in /opt/conda/lib/python3.8/site-packages (from pathos->sagemaker>=2.110.1) (0.3.0)\n",
      "Collecting contextlib2>=0.5.5\n",
      "  Downloading contextlib2-21.6.0-py2.py3-none-any.whl (13 kB)\n",
      "Building wheels for collected packages: sagemaker\n",
      "  Building wheel for sagemaker (setup.py) ... \u001b[?25ldone\n",
      "\u001b[?25h  Created wheel for sagemaker: filename=sagemaker-2.111.0-py2.py3-none-any.whl size=793048 sha256=ca9906c7eb0a39371d6cdfccbed13c462ebd248ddb2ef96faa615793e3aff5e4\n",
      "  Stored in directory: /root/.cache/pip/wheels/45/89/ba/395399028fac032ce574184ddf7fc648f7bb1aafc04e48d592\n",
      "Successfully built sagemaker\n",
      "Installing collected packages: tokenizers, xxhash, regex, multidict, frozenlist, filelock, contextlib2, async-timeout, yarl, scikit_learn, schema, responses, nltk, huggingface-hub, aiosignal, transformers, aiohttp, sagemaker, datasets\n",
      "  Attempting uninstall: scikit_learn\n",
      "    Found existing installation: scikit-learn 1.0.2\n",
      "    Uninstalling scikit-learn-1.0.2:\n",
      "      Successfully uninstalled scikit-learn-1.0.2\n",
      "  Attempting uninstall: sagemaker\n",
      "    Found existing installation: sagemaker 2.77.1\n",
      "    Uninstalling sagemaker-2.77.1:\n",
      "      Successfully uninstalled sagemaker-2.77.1\n",
      "Successfully installed aiohttp-3.8.3 aiosignal-1.2.0 async-timeout-4.0.2 contextlib2-21.6.0 datasets-2.5.2 filelock-3.8.0 frozenlist-1.3.1 huggingface-hub-0.10.0 multidict-6.0.2 nltk-3.7 regex-2022.9.13 responses-0.18.0 sagemaker-2.111.0 schema-0.7.5 scikit_learn-1.1.2 tokenizers-0.12.1 transformers-4.22.2 xxhash-3.0.0 yarl-1.8.1\n",
      "\u001b[33mWARNING: Running pip as the 'root' user can result in broken permissions and conflicting behaviour with the system package manager. It is recommended to use a virtual environment instead: https://pip.pypa.io/warnings/venv\u001b[0m\u001b[33m\n",
      "\u001b[0m"
     ]
    }
   ],
   "source": [
    "import sys\n",
    "\n",
    "!{sys.executable} -m pip install \"scikit_learn>=1.1.2\" \"sagemaker>=2.110.1\" \"transformers>=4.21.1\" \"datasets>=2.2.0\" \"nltk>=3.4.4\""
   ]
  },
  {
   "cell_type": "code",
   "execution_count": 26,
   "metadata": {},
   "outputs": [
    {
     "name": "stdout",
     "output_type": "stream",
     "text": [
      "Looking in indexes: https://pypi.org/simple, https://pypi.ngc.nvidia.com\n",
      "Requirement already satisfied: scikit-learn in /opt/data2/alfred/anaconda3/envs/aws/lib/python3.8/site-packages (1.1.2)\n",
      "Requirement already satisfied: joblib>=1.0.0 in /opt/data2/alfred/anaconda3/envs/aws/lib/python3.8/site-packages (from scikit-learn) (1.1.0)\n",
      "Requirement already satisfied: numpy>=1.17.3 in /opt/data2/alfred/anaconda3/envs/aws/lib/python3.8/site-packages (from scikit-learn) (1.20.3)\n",
      "Requirement already satisfied: scipy>=1.3.2 in /opt/data2/alfred/anaconda3/envs/aws/lib/python3.8/site-packages (from scikit-learn) (1.7.3)\n",
      "Requirement already satisfied: threadpoolctl>=2.0.0 in /opt/data2/alfred/anaconda3/envs/aws/lib/python3.8/site-packages (from scikit-learn) (2.2.0)\n"
     ]
    }
   ],
   "source": [
    "!pip install scikit-learn --upgrade"
   ]
  },
  {
   "cell_type": "markdown",
   "metadata": {},
   "source": [
    "Make sure SageMaker version is >= 2.75.1"
   ]
  },
  {
   "cell_type": "code",
   "execution_count": 3,
   "metadata": {},
   "outputs": [
    {
     "name": "stdout",
     "output_type": "stream",
     "text": [
      "2.111.0\n"
     ]
    }
   ],
   "source": [
    "import sagemaker\n",
    "\n",
    "print(sagemaker.__version__)"
   ]
  },
  {
   "cell_type": "code",
   "execution_count": 4,
   "metadata": {},
   "outputs": [
    {
     "name": "stdout",
     "output_type": "stream",
     "text": [
      "sagemaker role arn: arn:aws:iam::415275363822:role/service-role/AmazonSageMakerServiceCatalogProductsUseRole\n",
      "sagemaker bucket: sagemaker-us-east-1-415275363822\n",
      "sagemaker session region: us-east-1\n"
     ]
    }
   ],
   "source": [
    "sess = sagemaker.Session()\n",
    "# sagemaker session bucket -> used for uploading data, models and logs\n",
    "# sagemaker will automatically create this bucket if it not exists\n",
    "sagemaker_session_bucket = None\n",
    "if sagemaker_session_bucket is None and sess is not None:\n",
    "    # set to default bucket if a bucket name is not given\n",
    "    sagemaker_session_bucket = sess.default_bucket()\n",
    "\n",
    "role = sagemaker.get_execution_role()\n",
    "sess = sagemaker.Session(default_bucket=sagemaker_session_bucket)\n",
    "\n",
    "s3_prefix = \"huggingface_serverless/20_newsgroups\"\n",
    "\n",
    "print(f\"sagemaker role arn: {role}\")\n",
    "print(f\"sagemaker bucket: {sess.default_bucket()}\")\n",
    "print(f\"sagemaker session region: {sess.boto_region_name}\")"
   ]
  },
  {
   "cell_type": "markdown",
   "metadata": {},
   "source": [
    "### Data Preparation\n",
    "\n",
    "Now we'll download a dataset from the web on which we want to train the text classification model.\n",
    "\n",
    "In this example, let us train the text classification model on the [`20 newsgroups dataset`](http://qwone.com/~jason/20Newsgroups/). The `20 newsgroups dataset` consists of 20000 messages taken from 20 Usenet newsgroups."
   ]
  },
  {
   "cell_type": "code",
   "execution_count": 5,
   "metadata": {},
   "outputs": [],
   "source": [
    "import os\n",
    "import shutil\n",
    "\n",
    "data_dir = \"20_newsgroups_bulk\"\n",
    "if os.path.exists(data_dir):  # cleanup existing data folder\n",
    "    shutil.rmtree(data_dir)"
   ]
  },
  {
   "cell_type": "code",
   "execution_count": 6,
   "metadata": {},
   "outputs": [
    {
     "name": "stdout",
     "output_type": "stream",
     "text": [
      "download: s3://sagemaker-sample-files/datasets/text/20_newsgroups/20_newsgroups_bulk.tar.gz to ./20_newsgroups_bulk.tar.gz\n"
     ]
    }
   ],
   "source": [
    "!aws s3 cp s3://sagemaker-sample-files/datasets/text/20_newsgroups/20_newsgroups_bulk.tar.gz ."
   ]
  },
  {
   "cell_type": "code",
   "execution_count": 8,
   "metadata": {},
   "outputs": [
    {
     "name": "stdout",
     "output_type": "stream",
     "text": [
      "tar: 20_newsgroups_bulk/talk.politics.misc: Cannot change ownership to uid 500, gid 500: Operation not permitted\n",
      "tar: 20_newsgroups_bulk/rec.autos: Cannot change ownership to uid 500, gid 500: Operation not permitted\n",
      "tar: 20_newsgroups_bulk/rec.sport.baseball: Cannot change ownership to uid 500, gid 500: Operation not permitted\n",
      "tar: 20_newsgroups_bulk/alt.atheism: Cannot change ownership to uid 500, gid 500: Operation not permitted\n",
      "tar: 20_newsgroups_bulk/sci.space: Cannot change ownership to uid 500, gid 500: Operation not permitted\n",
      "tar: 20_newsgroups_bulk/comp.sys.mac.hardware: Cannot change ownership to uid 500, gid 500: Operation not permitted\n",
      "tar: 20_newsgroups_bulk/comp.windows.x: Cannot change ownership to uid 500, gid 500: Operation not permitted\n",
      "tar: 20_newsgroups_bulk/comp.graphics: Cannot change ownership to uid 500, gid 500: Operation not permitted\n",
      "tar: 20_newsgroups_bulk/rec.sport.hockey: Cannot change ownership to uid 500, gid 500: Operation not permitted\n",
      "tar: 20_newsgroups_bulk/talk.politics.mideast: Cannot change ownership to uid 500, gid 500: Operation not permitted\n",
      "tar: 20_newsgroups_bulk/sci.crypt: Cannot change ownership to uid 500, gid 500: Operation not permitted\n",
      "tar: 20_newsgroups_bulk/talk.politics.guns: Cannot change ownership to uid 500, gid 500: Operation not permitted\n",
      "tar: 20_newsgroups_bulk/comp.os.ms-windows.misc: Cannot change ownership to uid 500, gid 500: Operation not permitted\n",
      "tar: 20_newsgroups_bulk/comp.sys.ibm.pc.hardware: Cannot change ownership to uid 500, gid 500: Operation not permitted\n",
      "tar: 20_newsgroups_bulk/misc.forsale: Cannot change ownership to uid 500, gid 500: Operation not permitted\n",
      "tar: 20_newsgroups_bulk/sci.electronics: Cannot change ownership to uid 500, gid 500: Operation not permitted\n",
      "tar: 20_newsgroups_bulk/soc.religion.christian: Cannot change ownership to uid 500, gid 500: Operation not permitted\n",
      "tar: 20_newsgroups_bulk/rec.motorcycles: Cannot change ownership to uid 500, gid 500: Operation not permitted\n",
      "tar: 20_newsgroups_bulk/sci.med: Cannot change ownership to uid 500, gid 500: Operation not permitted\n",
      "tar: 20_newsgroups_bulk/talk.religion.misc: Cannot change ownership to uid 500, gid 500: Operation not permitted\n",
      "tar: 20_newsgroups_bulk: Cannot change ownership to uid 500, gid 500: Operation not permitted\n",
      "tar: Exiting with failure status due to previous errors\n",
      "alt.atheism\t\t  rec.autos\t      sci.space\n",
      "comp.graphics\t\t  rec.motorcycles     soc.religion.christian\n",
      "comp.os.ms-windows.misc   rec.sport.baseball  talk.politics.guns\n",
      "comp.sys.ibm.pc.hardware  rec.sport.hockey    talk.politics.mideast\n",
      "comp.sys.mac.hardware\t  sci.crypt\t      talk.politics.misc\n",
      "comp.windows.x\t\t  sci.electronics     talk.religion.misc\n",
      "misc.forsale\t\t  sci.med\n"
     ]
    }
   ],
   "source": [
    "!tar xzf 20_newsgroups_bulk.tar.gz\n",
    "!ls 20_newsgroups_bulk"
   ]
  },
  {
   "cell_type": "code",
   "execution_count": 9,
   "metadata": {},
   "outputs": [
    {
     "name": "stdout",
     "output_type": "stream",
     "text": [
      "Number of files: 20\n"
     ]
    }
   ],
   "source": [
    "file_list = [os.path.join(data_dir, f) for f in os.listdir(data_dir)]\n",
    "print(\"Number of files:\", len(file_list))"
   ]
  },
  {
   "cell_type": "code",
   "execution_count": 10,
   "metadata": {},
   "outputs": [
    {
     "name": "stdout",
     "output_type": "stream",
     "text": [
      "Number of documents: 19997\n"
     ]
    }
   ],
   "source": [
    "import pandas as pd\n",
    "\n",
    "documents_count = 0\n",
    "for file in file_list:\n",
    "    df = pd.read_csv(file, header=None, names=[\"text\"])\n",
    "    documents_count = documents_count + df.shape[0]\n",
    "print(\"Number of documents:\", documents_count)"
   ]
  },
  {
   "cell_type": "markdown",
   "metadata": {},
   "source": [
    "Let's inspect the dataset files and analyze the categories."
   ]
  },
  {
   "cell_type": "code",
   "execution_count": 11,
   "metadata": {},
   "outputs": [
    {
     "data": {
      "text/plain": [
       "['sci.electronics',\n",
       " 'rec.sport.baseball',\n",
       " 'rec.autos',\n",
       " 'talk.politics.guns',\n",
       " 'rec.motorcycles',\n",
       " 'alt.atheism',\n",
       " 'misc.forsale',\n",
       " 'talk.politics.mideast',\n",
       " 'comp.windows.x',\n",
       " 'comp.graphics',\n",
       " 'rec.sport.hockey',\n",
       " 'sci.space',\n",
       " 'talk.religion.misc',\n",
       " 'sci.med',\n",
       " 'talk.politics.misc',\n",
       " 'comp.sys.mac.hardware',\n",
       " 'comp.sys.ibm.pc.hardware',\n",
       " 'sci.crypt',\n",
       " 'soc.religion.christian',\n",
       " 'comp.os.ms-windows.misc']"
      ]
     },
     "execution_count": 11,
     "metadata": {},
     "output_type": "execute_result"
    }
   ],
   "source": [
    "categories_list = [f.split(\"/\")[1] for f in file_list]\n",
    "categories_list"
   ]
  },
  {
   "cell_type": "markdown",
   "metadata": {},
   "source": [
    "We can see that the dataset consists of 20 topics, each in different file.\n",
    "\n",
    "Let us inspect the dataset to get some understanding about how the data and the label is provided in the dataset. "
   ]
  },
  {
   "cell_type": "code",
   "execution_count": 12,
   "metadata": {},
   "outputs": [
    {
     "data": {
      "text/html": [
       "<div>\n",
       "<style scoped>\n",
       "    .dataframe tbody tr th:only-of-type {\n",
       "        vertical-align: middle;\n",
       "    }\n",
       "\n",
       "    .dataframe tbody tr th {\n",
       "        vertical-align: top;\n",
       "    }\n",
       "\n",
       "    .dataframe thead th {\n",
       "        text-align: right;\n",
       "    }\n",
       "</style>\n",
       "<table border=\"1\" class=\"dataframe\">\n",
       "  <thead>\n",
       "    <tr style=\"text-align: right;\">\n",
       "      <th></th>\n",
       "      <th>text</th>\n",
       "    </tr>\n",
       "  </thead>\n",
       "  <tbody>\n",
       "    <tr>\n",
       "      <th>0</th>\n",
       "      <td>Newsgroups: rec.motorcycles\\nPath: cantaloupe....</td>\n",
       "    </tr>\n",
       "    <tr>\n",
       "      <th>1</th>\n",
       "      <td>Newsgroups: rec.motorcycles\\nPath: cantaloupe....</td>\n",
       "    </tr>\n",
       "    <tr>\n",
       "      <th>2</th>\n",
       "      <td>Newsgroups: rec.motorcycles\\nPath: cantaloupe....</td>\n",
       "    </tr>\n",
       "    <tr>\n",
       "      <th>3</th>\n",
       "      <td>Newsgroups: rec.motorcycles\\nPath: cantaloupe....</td>\n",
       "    </tr>\n",
       "    <tr>\n",
       "      <th>4</th>\n",
       "      <td>Path: cantaloupe.srv.cs.cmu.edu!das-news.harva...</td>\n",
       "    </tr>\n",
       "    <tr>\n",
       "      <th>...</th>\n",
       "      <td>...</td>\n",
       "    </tr>\n",
       "    <tr>\n",
       "      <th>995</th>\n",
       "      <td>Path: cantaloupe.srv.cs.cmu.edu!rochester!corn...</td>\n",
       "    </tr>\n",
       "    <tr>\n",
       "      <th>996</th>\n",
       "      <td>Path: cantaloupe.srv.cs.cmu.edu!das-news.harva...</td>\n",
       "    </tr>\n",
       "    <tr>\n",
       "      <th>997</th>\n",
       "      <td>Newsgroups: rec.motorcycles\\nPath: cantaloupe....</td>\n",
       "    </tr>\n",
       "    <tr>\n",
       "      <th>998</th>\n",
       "      <td>Newsgroups: rec.motorcycles\\nPath: cantaloupe....</td>\n",
       "    </tr>\n",
       "    <tr>\n",
       "      <th>999</th>\n",
       "      <td>Path: cantaloupe.srv.cs.cmu.edu!das-news.harva...</td>\n",
       "    </tr>\n",
       "  </tbody>\n",
       "</table>\n",
       "<p>1000 rows × 1 columns</p>\n",
       "</div>"
      ],
      "text/plain": [
       "                                                  text\n",
       "0    Newsgroups: rec.motorcycles\\nPath: cantaloupe....\n",
       "1    Newsgroups: rec.motorcycles\\nPath: cantaloupe....\n",
       "2    Newsgroups: rec.motorcycles\\nPath: cantaloupe....\n",
       "3    Newsgroups: rec.motorcycles\\nPath: cantaloupe....\n",
       "4    Path: cantaloupe.srv.cs.cmu.edu!das-news.harva...\n",
       "..                                                 ...\n",
       "995  Path: cantaloupe.srv.cs.cmu.edu!rochester!corn...\n",
       "996  Path: cantaloupe.srv.cs.cmu.edu!das-news.harva...\n",
       "997  Newsgroups: rec.motorcycles\\nPath: cantaloupe....\n",
       "998  Newsgroups: rec.motorcycles\\nPath: cantaloupe....\n",
       "999  Path: cantaloupe.srv.cs.cmu.edu!das-news.harva...\n",
       "\n",
       "[1000 rows x 1 columns]"
      ]
     },
     "execution_count": 12,
     "metadata": {},
     "output_type": "execute_result"
    }
   ],
   "source": [
    "df = pd.read_csv(\"./20_newsgroups_bulk/rec.motorcycles\", header=None, names=[\"text\"])\n",
    "df"
   ]
  },
  {
   "cell_type": "code",
   "execution_count": 13,
   "metadata": {},
   "outputs": [
    {
     "data": {
      "text/plain": [
       "'Newsgroups: rec.motorcycles\\nPath: cantaloupe.srv.cs.cmu.edu!crabapple.srv.cs.cmu.edu!fs7.ece.cmu.edu!europa.eng.gtefsd.com!howland.reston.ans.net!agate!linus!linus.mitre.org!mbunix.mitre.org!cookson\\nFrom: cookson@mbunix.mitre.org (Cookson)\\nSubject: Volvo Attack!\\nMessage-ID: <1993Apr21.143403.4644@linus.mitre.org>\\nSender: news@linus.mitre.org (News Service)\\nNntp-Posting-Host: mbunix.mitre.org\\nOrganization: The MITRE Corp., Bedford, Ma.\\nDate: Wed, 21 Apr 1993 14:34:03 GMT\\nLines: 22\\n\\nI was privelged enough to experience my first Volvo attack this weekend.\\n\\nI was last in a line of traffic that was about 6 vehicles long, riding\\ndown Rt. 40 in Groton Ma.  At the side of the road, sitting off on the\\nshoulder was the killer Volvo in question.  No brake lights, no turn signal,\\nnothing.  We were doing about 40 mph and I was following the cage in front\\nof me about 2.5-3 sec. back.  Well, as said cage passes the Volvo, the\\nBrain Dead Idiot (tm) behind the wheel decides that she doesn\\'t need to wait\\nfor me to pass also and turns out perpendicular across both lanes of traffic\\nso that she can turn around...  So I get on the brakes in a effort to not\\nT-bone it, and the horn in an effort to wake the BDI up.  As she finishes\\nthe turn, she looks up at me with a completely blank, uncomprehending\\nstare.\\n\\nWhere can I get rocket launchers for the VFR?\\n\\nDean\\n-- \\n| Dean Cookson / dcookson@mitre.org / 617 271-2714    | DoD #207  AMA #573534 |\\n| The MITRE Corp. Burlington Rd., Bedford, Ma. 01730  | KotNML  /  KotB       |\\n| \"The road is my shepherd and I shall not stop\"      | \\'92 VFR750F           |\\n| -Sam Eliott, Road Hogs MTV 1993                     | \\'88 Bianchi Limited   |\\n'"
      ]
     },
     "execution_count": 13,
     "metadata": {},
     "output_type": "execute_result"
    }
   ],
   "source": [
    "df[\"text\"][0]"
   ]
  },
  {
   "cell_type": "code",
   "execution_count": 14,
   "metadata": {},
   "outputs": [
    {
     "data": {
      "text/html": [
       "<div>\n",
       "<style scoped>\n",
       "    .dataframe tbody tr th:only-of-type {\n",
       "        vertical-align: middle;\n",
       "    }\n",
       "\n",
       "    .dataframe tbody tr th {\n",
       "        vertical-align: top;\n",
       "    }\n",
       "\n",
       "    .dataframe thead th {\n",
       "        text-align: right;\n",
       "    }\n",
       "</style>\n",
       "<table border=\"1\" class=\"dataframe\">\n",
       "  <thead>\n",
       "    <tr style=\"text-align: right;\">\n",
       "      <th></th>\n",
       "      <th>text</th>\n",
       "    </tr>\n",
       "  </thead>\n",
       "  <tbody>\n",
       "    <tr>\n",
       "      <th>0</th>\n",
       "      <td>Newsgroups: comp.sys.mac.hardware\\nPath: canta...</td>\n",
       "    </tr>\n",
       "    <tr>\n",
       "      <th>1</th>\n",
       "      <td>Path: cantaloupe.srv.cs.cmu.edu!crabapple.srv....</td>\n",
       "    </tr>\n",
       "    <tr>\n",
       "      <th>2</th>\n",
       "      <td>Newsgroups: comp.sys.mac.hardware\\nPath: canta...</td>\n",
       "    </tr>\n",
       "    <tr>\n",
       "      <th>3</th>\n",
       "      <td>Path: cantaloupe.srv.cs.cmu.edu!magnesium.club...</td>\n",
       "    </tr>\n",
       "    <tr>\n",
       "      <th>4</th>\n",
       "      <td>Newsgroups: comp.sys.mac.hardware\\nPath: canta...</td>\n",
       "    </tr>\n",
       "    <tr>\n",
       "      <th>...</th>\n",
       "      <td>...</td>\n",
       "    </tr>\n",
       "    <tr>\n",
       "      <th>995</th>\n",
       "      <td>Newsgroups: comp.sys.mac.hardware\\nPath: canta...</td>\n",
       "    </tr>\n",
       "    <tr>\n",
       "      <th>996</th>\n",
       "      <td>Xref: cantaloupe.srv.cs.cmu.edu comp.sys.ibm.p...</td>\n",
       "    </tr>\n",
       "    <tr>\n",
       "      <th>997</th>\n",
       "      <td>Path: cantaloupe.srv.cs.cmu.edu!crabapple.srv....</td>\n",
       "    </tr>\n",
       "    <tr>\n",
       "      <th>998</th>\n",
       "      <td>Newsgroups: comp.sys.mac.hardware\\nPath: canta...</td>\n",
       "    </tr>\n",
       "    <tr>\n",
       "      <th>999</th>\n",
       "      <td>Newsgroups: comp.sys.mac.hardware\\nPath: canta...</td>\n",
       "    </tr>\n",
       "  </tbody>\n",
       "</table>\n",
       "<p>1000 rows × 1 columns</p>\n",
       "</div>"
      ],
      "text/plain": [
       "                                                  text\n",
       "0    Newsgroups: comp.sys.mac.hardware\\nPath: canta...\n",
       "1    Path: cantaloupe.srv.cs.cmu.edu!crabapple.srv....\n",
       "2    Newsgroups: comp.sys.mac.hardware\\nPath: canta...\n",
       "3    Path: cantaloupe.srv.cs.cmu.edu!magnesium.club...\n",
       "4    Newsgroups: comp.sys.mac.hardware\\nPath: canta...\n",
       "..                                                 ...\n",
       "995  Newsgroups: comp.sys.mac.hardware\\nPath: canta...\n",
       "996  Xref: cantaloupe.srv.cs.cmu.edu comp.sys.ibm.p...\n",
       "997  Path: cantaloupe.srv.cs.cmu.edu!crabapple.srv....\n",
       "998  Newsgroups: comp.sys.mac.hardware\\nPath: canta...\n",
       "999  Newsgroups: comp.sys.mac.hardware\\nPath: canta...\n",
       "\n",
       "[1000 rows x 1 columns]"
      ]
     },
     "execution_count": 14,
     "metadata": {},
     "output_type": "execute_result"
    }
   ],
   "source": [
    "df = pd.read_csv(\"./20_newsgroups_bulk/comp.sys.mac.hardware\", header=None, names=[\"text\"])\n",
    "df"
   ]
  },
  {
   "cell_type": "code",
   "execution_count": 15,
   "metadata": {},
   "outputs": [
    {
     "data": {
      "text/plain": [
       "'Newsgroups: comp.sys.mac.hardware\\nPath: cantaloupe.srv.cs.cmu.edu!rochester!udel!gatech!howland.reston.ans.net!agate!headwall.Stanford.EDU!nntp.Stanford.EDU!cmwand\\nFrom: cmwand@leland.Stanford.EDU (Christopher Wand)\\nSubject: Re: Syquest 150 ???\\nMessage-ID: <1993Apr20.043629.21237@leland.Stanford.EDU>\\nSender: news@leland.Stanford.EDU (Mr News)\\nOrganization: DSG, Stanford University, CA 94305, USA\\nReferences: <93759@hydra.gatech.EDU>\\nDistribution: usa\\nDate: Tue, 20 Apr 93 04:36:29 GMT\\nLines: 30\\n\\nIn article <93759@hydra.gatech.EDU> gt8798a@prism.gatech.EDU (Anthony S. Kim) writes:\\n>I remember someone mention about a 150meg syquest.  Has anyone else\\n>heard anything about this?  I\\'d be interested in the cost per megabyte and the\\n>approximate cost of the drive itself and how they compare to the Bernoulli 150.\\n\\nI think you must be talking about the Syquest 105 (code named Mesa I believe).\\nIt is a 3.5\" Winchester technology drive pretty much like the other Syquest\\ndrives in terms of how it works. According to the latest MacLeak, the \\ndrive has a 14.5 ms access time, 1.9 MB/s sustained throughput (these figures\\nare from memory so they could be slightly off, but they give you an idea of\\nperformance nonetheless). The drive was originally released for the PC\\nand just recently was released for the Mac world (don\\'t ask me what the \\ndifferences are) and through they are currently in limited supply, according\\nto a Syquest rep. they are in the process of ramping up for mass production.\\nI have already seen them advertised by a number of manufacturers in MacLeak\\nincluding PLI, MassMicro, ClubMac, and MacWarehouse\\'s PowerUser. The PLI\\nand MassMicro units are priced at just around $1000; the lesser name brands\\nare going for around $750 for an external drive. Cartridges which hold \\n105 MB sell for about $80 each. At these prices, the drives and cartridges\\nare cheaper and better performing than the 88MB drives.\\nCost per megabyte compares favorably with other cartridge drives and Bernoulli\\ndrives, but for large amounts of data optical is still cheaper, and more\\nreliable.  Personally, I\\'m excited by the new drive and look forward to \\ngetting my hands on one.\\n-Chris Wand\\n\\n-- \\n\\n\"Egotism is the anesthetic that dulls the pain of stupidity.\"\\n                                                     - Frank Leahy\\n'"
      ]
     },
     "execution_count": 15,
     "metadata": {},
     "output_type": "execute_result"
    }
   ],
   "source": [
    "df[\"text\"][0]"
   ]
  },
  {
   "cell_type": "markdown",
   "metadata": {},
   "source": [
    "As we can see from the above, there is a single file for each class in the dataset. Each record is just a plain text paragraphs with header, body, footer and quotes. We will need to process them into a suitable data format."
   ]
  },
  {
   "cell_type": "markdown",
   "metadata": {},
   "source": [
    "## Data Preprocessing\n",
    "We need to preprocess the dataset to remove the header, footer, quotes, leading/trailing whitespace, extra spaces, tabs, and HTML tags/markups. \n",
    "\n",
    "Download the `nltk` tokenizer and other libraries"
   ]
  },
  {
   "cell_type": "code",
   "execution_count": 16,
   "metadata": {},
   "outputs": [
    {
     "name": "stderr",
     "output_type": "stream",
     "text": [
      "[nltk_data] Downloading package punkt to /root/nltk_data...\n",
      "[nltk_data]   Unzipping tokenizers/punkt.zip.\n"
     ]
    },
    {
     "data": {
      "text/plain": [
       "True"
      ]
     },
     "execution_count": 16,
     "metadata": {},
     "output_type": "execute_result"
    }
   ],
   "source": [
    "import nltk\n",
    "from nltk.tokenize import word_tokenize\n",
    "import re\n",
    "import string\n",
    "\n",
    "nltk.download(\"punkt\")"
   ]
  },
  {
   "cell_type": "code",
   "execution_count": 17,
   "metadata": {},
   "outputs": [
    {
     "name": "stdout",
     "output_type": "stream",
     "text": [
      "1.1.2\n"
     ]
    }
   ],
   "source": [
    "import sklearn\n",
    "print(sklearn.__version__)"
   ]
  },
  {
   "cell_type": "code",
   "execution_count": 18,
   "metadata": {},
   "outputs": [],
   "source": [
    "from sklearn.datasets._twenty_newsgroups import (\n",
    "    strip_newsgroup_header,\n",
    "    strip_newsgroup_quoting,\n",
    "    strip_newsgroup_footer,\n",
    ")"
   ]
  },
  {
   "cell_type": "markdown",
   "metadata": {},
   "source": [
    "This following function will remove the header, footer and quotes (of earlier messages in each text)."
   ]
  },
  {
   "cell_type": "code",
   "execution_count": 19,
   "metadata": {},
   "outputs": [],
   "source": [
    "def strip_newsgroup_item(item):\n",
    "    item = strip_newsgroup_header(item)\n",
    "    item = strip_newsgroup_quoting(item)\n",
    "    item = strip_newsgroup_footer(item)\n",
    "    return item"
   ]
  },
  {
   "cell_type": "markdown",
   "metadata": {},
   "source": [
    "The following function will take care of removing leading/trailing whitespace, extra spaces, tabs, and HTML tags/markups."
   ]
  },
  {
   "cell_type": "code",
   "execution_count": 20,
   "metadata": {},
   "outputs": [],
   "source": [
    "def process_text(texts):\n",
    "    final_text_list = []\n",
    "    for text in texts:\n",
    "\n",
    "        # Check if the sentence is a missing value\n",
    "        if isinstance(text, str) == False:\n",
    "            text = \"\"\n",
    "\n",
    "        filtered_sentence = []\n",
    "\n",
    "        # Lowercase\n",
    "        text = text.lower()\n",
    "\n",
    "        # Remove leading/trailing whitespace, extra space, tabs, and HTML tags/markups\n",
    "        text = text.strip()\n",
    "        text = re.sub(\"\\[.*?\\]\", \"\", text)\n",
    "        text = re.sub(\"https?://\\S+|www\\.\\S+\", \"\", text)\n",
    "        text = re.sub(\"<.*?>+\", \"\", text)\n",
    "        text = re.sub(\"[%s]\" % re.escape(string.punctuation), \"\", text)\n",
    "        text = re.sub(\"\\n\", \"\", text)\n",
    "        text = re.sub(\"\\w*\\d\\w*\", \"\", text)\n",
    "\n",
    "        for w in word_tokenize(text):\n",
    "            # We are applying some custom filtering here, feel free to try different things\n",
    "            # Check if it is not numeric\n",
    "            if not w.isnumeric():\n",
    "                filtered_sentence.append(w)\n",
    "        final_string = \" \".join(filtered_sentence)  # final string of cleaned words\n",
    "\n",
    "        final_text_list.append(final_string)\n",
    "\n",
    "    return final_text_list"
   ]
  },
  {
   "cell_type": "markdown",
   "metadata": {},
   "source": [
    "Now we will read each of the `20_newsgroups` dataset files, call `strip_newsgroup_item` and `process_text` functions we defined earlier, and then aggregate all data into one dataframe."
   ]
  },
  {
   "cell_type": "code",
   "execution_count": 24,
   "metadata": {},
   "outputs": [
    {
     "name": "stdout",
     "output_type": "stream",
     "text": [
      "Processing 20_newsgroups_bulk/sci.electronics\n"
     ]
    },
    {
     "name": "stderr",
     "output_type": "stream",
     "text": [
      "<ipython-input-24-a02e212c97eb>:10: FutureWarning: The frame.append method is deprecated and will be removed from pandas in a future version. Use pandas.concat instead.\n",
      "  all_categories_df = all_categories_df.append(df, ignore_index=True)\n"
     ]
    },
    {
     "name": "stdout",
     "output_type": "stream",
     "text": [
      "Processing 20_newsgroups_bulk/rec.sport.baseball\n"
     ]
    },
    {
     "name": "stderr",
     "output_type": "stream",
     "text": [
      "<ipython-input-24-a02e212c97eb>:10: FutureWarning: The frame.append method is deprecated and will be removed from pandas in a future version. Use pandas.concat instead.\n",
      "  all_categories_df = all_categories_df.append(df, ignore_index=True)\n"
     ]
    },
    {
     "name": "stdout",
     "output_type": "stream",
     "text": [
      "Processing 20_newsgroups_bulk/rec.autos\n"
     ]
    },
    {
     "name": "stderr",
     "output_type": "stream",
     "text": [
      "<ipython-input-24-a02e212c97eb>:10: FutureWarning: The frame.append method is deprecated and will be removed from pandas in a future version. Use pandas.concat instead.\n",
      "  all_categories_df = all_categories_df.append(df, ignore_index=True)\n"
     ]
    },
    {
     "name": "stdout",
     "output_type": "stream",
     "text": [
      "Processing 20_newsgroups_bulk/talk.politics.guns\n"
     ]
    },
    {
     "name": "stderr",
     "output_type": "stream",
     "text": [
      "<ipython-input-24-a02e212c97eb>:10: FutureWarning: The frame.append method is deprecated and will be removed from pandas in a future version. Use pandas.concat instead.\n",
      "  all_categories_df = all_categories_df.append(df, ignore_index=True)\n"
     ]
    },
    {
     "name": "stdout",
     "output_type": "stream",
     "text": [
      "Processing 20_newsgroups_bulk/rec.motorcycles\n"
     ]
    },
    {
     "name": "stderr",
     "output_type": "stream",
     "text": [
      "<ipython-input-24-a02e212c97eb>:10: FutureWarning: The frame.append method is deprecated and will be removed from pandas in a future version. Use pandas.concat instead.\n",
      "  all_categories_df = all_categories_df.append(df, ignore_index=True)\n"
     ]
    },
    {
     "name": "stdout",
     "output_type": "stream",
     "text": [
      "Processing 20_newsgroups_bulk/alt.atheism\n"
     ]
    },
    {
     "name": "stderr",
     "output_type": "stream",
     "text": [
      "<ipython-input-24-a02e212c97eb>:10: FutureWarning: The frame.append method is deprecated and will be removed from pandas in a future version. Use pandas.concat instead.\n",
      "  all_categories_df = all_categories_df.append(df, ignore_index=True)\n"
     ]
    },
    {
     "name": "stdout",
     "output_type": "stream",
     "text": [
      "Processing 20_newsgroups_bulk/misc.forsale\n"
     ]
    },
    {
     "name": "stderr",
     "output_type": "stream",
     "text": [
      "<ipython-input-24-a02e212c97eb>:10: FutureWarning: The frame.append method is deprecated and will be removed from pandas in a future version. Use pandas.concat instead.\n",
      "  all_categories_df = all_categories_df.append(df, ignore_index=True)\n"
     ]
    },
    {
     "name": "stdout",
     "output_type": "stream",
     "text": [
      "Processing 20_newsgroups_bulk/talk.politics.mideast\n"
     ]
    },
    {
     "name": "stderr",
     "output_type": "stream",
     "text": [
      "<ipython-input-24-a02e212c97eb>:10: FutureWarning: The frame.append method is deprecated and will be removed from pandas in a future version. Use pandas.concat instead.\n",
      "  all_categories_df = all_categories_df.append(df, ignore_index=True)\n"
     ]
    },
    {
     "name": "stdout",
     "output_type": "stream",
     "text": [
      "Processing 20_newsgroups_bulk/comp.windows.x\n"
     ]
    },
    {
     "name": "stderr",
     "output_type": "stream",
     "text": [
      "<ipython-input-24-a02e212c97eb>:10: FutureWarning: The frame.append method is deprecated and will be removed from pandas in a future version. Use pandas.concat instead.\n",
      "  all_categories_df = all_categories_df.append(df, ignore_index=True)\n"
     ]
    },
    {
     "name": "stdout",
     "output_type": "stream",
     "text": [
      "Processing 20_newsgroups_bulk/comp.graphics\n"
     ]
    },
    {
     "name": "stderr",
     "output_type": "stream",
     "text": [
      "<ipython-input-24-a02e212c97eb>:10: FutureWarning: The frame.append method is deprecated and will be removed from pandas in a future version. Use pandas.concat instead.\n",
      "  all_categories_df = all_categories_df.append(df, ignore_index=True)\n"
     ]
    },
    {
     "name": "stdout",
     "output_type": "stream",
     "text": [
      "Processing 20_newsgroups_bulk/rec.sport.hockey\n"
     ]
    },
    {
     "name": "stderr",
     "output_type": "stream",
     "text": [
      "<ipython-input-24-a02e212c97eb>:10: FutureWarning: The frame.append method is deprecated and will be removed from pandas in a future version. Use pandas.concat instead.\n",
      "  all_categories_df = all_categories_df.append(df, ignore_index=True)\n"
     ]
    },
    {
     "name": "stdout",
     "output_type": "stream",
     "text": [
      "Processing 20_newsgroups_bulk/sci.space\n"
     ]
    },
    {
     "name": "stderr",
     "output_type": "stream",
     "text": [
      "<ipython-input-24-a02e212c97eb>:10: FutureWarning: The frame.append method is deprecated and will be removed from pandas in a future version. Use pandas.concat instead.\n",
      "  all_categories_df = all_categories_df.append(df, ignore_index=True)\n"
     ]
    },
    {
     "name": "stdout",
     "output_type": "stream",
     "text": [
      "Processing 20_newsgroups_bulk/talk.religion.misc\n"
     ]
    },
    {
     "name": "stderr",
     "output_type": "stream",
     "text": [
      "<ipython-input-24-a02e212c97eb>:10: FutureWarning: The frame.append method is deprecated and will be removed from pandas in a future version. Use pandas.concat instead.\n",
      "  all_categories_df = all_categories_df.append(df, ignore_index=True)\n"
     ]
    },
    {
     "name": "stdout",
     "output_type": "stream",
     "text": [
      "Processing 20_newsgroups_bulk/sci.med\n"
     ]
    },
    {
     "name": "stderr",
     "output_type": "stream",
     "text": [
      "<ipython-input-24-a02e212c97eb>:10: FutureWarning: The frame.append method is deprecated and will be removed from pandas in a future version. Use pandas.concat instead.\n",
      "  all_categories_df = all_categories_df.append(df, ignore_index=True)\n"
     ]
    },
    {
     "name": "stdout",
     "output_type": "stream",
     "text": [
      "Processing 20_newsgroups_bulk/talk.politics.misc\n"
     ]
    },
    {
     "name": "stderr",
     "output_type": "stream",
     "text": [
      "<ipython-input-24-a02e212c97eb>:10: FutureWarning: The frame.append method is deprecated and will be removed from pandas in a future version. Use pandas.concat instead.\n",
      "  all_categories_df = all_categories_df.append(df, ignore_index=True)\n"
     ]
    },
    {
     "name": "stdout",
     "output_type": "stream",
     "text": [
      "Processing 20_newsgroups_bulk/comp.sys.mac.hardware\n"
     ]
    },
    {
     "name": "stderr",
     "output_type": "stream",
     "text": [
      "<ipython-input-24-a02e212c97eb>:10: FutureWarning: The frame.append method is deprecated and will be removed from pandas in a future version. Use pandas.concat instead.\n",
      "  all_categories_df = all_categories_df.append(df, ignore_index=True)\n"
     ]
    },
    {
     "name": "stdout",
     "output_type": "stream",
     "text": [
      "Processing 20_newsgroups_bulk/comp.sys.ibm.pc.hardware\n"
     ]
    },
    {
     "name": "stderr",
     "output_type": "stream",
     "text": [
      "<ipython-input-24-a02e212c97eb>:10: FutureWarning: The frame.append method is deprecated and will be removed from pandas in a future version. Use pandas.concat instead.\n",
      "  all_categories_df = all_categories_df.append(df, ignore_index=True)\n"
     ]
    },
    {
     "name": "stdout",
     "output_type": "stream",
     "text": [
      "Processing 20_newsgroups_bulk/sci.crypt\n"
     ]
    },
    {
     "name": "stderr",
     "output_type": "stream",
     "text": [
      "<ipython-input-24-a02e212c97eb>:10: FutureWarning: The frame.append method is deprecated and will be removed from pandas in a future version. Use pandas.concat instead.\n",
      "  all_categories_df = all_categories_df.append(df, ignore_index=True)\n"
     ]
    },
    {
     "name": "stdout",
     "output_type": "stream",
     "text": [
      "Processing 20_newsgroups_bulk/soc.religion.christian\n"
     ]
    },
    {
     "name": "stderr",
     "output_type": "stream",
     "text": [
      "<ipython-input-24-a02e212c97eb>:10: FutureWarning: The frame.append method is deprecated and will be removed from pandas in a future version. Use pandas.concat instead.\n",
      "  all_categories_df = all_categories_df.append(df, ignore_index=True)\n"
     ]
    },
    {
     "name": "stdout",
     "output_type": "stream",
     "text": [
      "Processing 20_newsgroups_bulk/comp.os.ms-windows.misc\n"
     ]
    },
    {
     "name": "stderr",
     "output_type": "stream",
     "text": [
      "<ipython-input-24-a02e212c97eb>:10: FutureWarning: The frame.append method is deprecated and will be removed from pandas in a future version. Use pandas.concat instead.\n",
      "  all_categories_df = all_categories_df.append(df, ignore_index=True)\n"
     ]
    }
   ],
   "source": [
    "all_categories_df = pd.DataFrame()\n",
    "\n",
    "for file in file_list:\n",
    "    print(f\"Processing {file}\")\n",
    "    label = file.split(\"/\")[1]\n",
    "    df = pd.read_csv(file, header=None, names=[\"text\"])\n",
    "    df[\"text\"] = df[\"text\"].apply(strip_newsgroup_item)\n",
    "    df[\"text\"] = process_text(df[\"text\"].tolist())\n",
    "    df[\"label\"] = label\n",
    "    all_categories_df = all_categories_df.append(df, ignore_index=True)\n",
    "    #all_categories_df = all_categories_df.concat(df, ignore_index=True)"
   ]
  },
  {
   "cell_type": "markdown",
   "metadata": {},
   "source": [
    "Let's inspect how many categories there are in our dataset."
   ]
  },
  {
   "cell_type": "code",
   "execution_count": 25,
   "metadata": {},
   "outputs": [
    {
     "data": {
      "text/plain": [
       "sci.electronics             1000\n",
       "rec.sport.baseball          1000\n",
       "sci.crypt                   1000\n",
       "comp.sys.ibm.pc.hardware    1000\n",
       "comp.sys.mac.hardware       1000\n",
       "talk.politics.misc          1000\n",
       "sci.med                     1000\n",
       "talk.religion.misc          1000\n",
       "sci.space                   1000\n",
       "rec.sport.hockey            1000\n",
       "comp.graphics               1000\n",
       "comp.windows.x              1000\n",
       "talk.politics.mideast       1000\n",
       "misc.forsale                1000\n",
       "alt.atheism                 1000\n",
       "rec.motorcycles             1000\n",
       "talk.politics.guns          1000\n",
       "rec.autos                   1000\n",
       "comp.os.ms-windows.misc     1000\n",
       "soc.religion.christian       997\n",
       "Name: label, dtype: int64"
      ]
     },
     "execution_count": 25,
     "metadata": {},
     "output_type": "execute_result"
    }
   ],
   "source": [
    "all_categories_df[\"label\"].value_counts()"
   ]
  },
  {
   "cell_type": "markdown",
   "metadata": {},
   "source": [
    "In our dataset there are 20 categories which is too much, so we will combine the sub-categories."
   ]
  },
  {
   "cell_type": "code",
   "execution_count": 26,
   "metadata": {},
   "outputs": [],
   "source": [
    "# replace to politics\n",
    "all_categories_df[\"label\"].replace(\n",
    "    {\n",
    "        \"talk.politics.misc\": \"politics\",\n",
    "        \"talk.politics.guns\": \"politics\",\n",
    "        \"talk.politics.mideast\": \"politics\",\n",
    "    },\n",
    "    inplace=True,\n",
    ")\n",
    "\n",
    "# replace to recreational\n",
    "all_categories_df[\"label\"].replace(\n",
    "    {\n",
    "        \"rec.sport.hockey\": \"recreational\",\n",
    "        \"rec.sport.baseball\": \"recreational\",\n",
    "        \"rec.autos\": \"recreational\",\n",
    "        \"rec.motorcycles\": \"recreational\",\n",
    "    },\n",
    "    inplace=True,\n",
    ")\n",
    "\n",
    "# replace to religion\n",
    "all_categories_df[\"label\"].replace(\n",
    "    {\n",
    "        \"soc.religion.christian\": \"religion\",\n",
    "        \"talk.religion.misc\": \"religion\",\n",
    "        \"alt.atheism\": \"religion\",\n",
    "    },\n",
    "    inplace=True,\n",
    ")\n",
    "\n",
    "# replace to computer\n",
    "all_categories_df[\"label\"].replace(\n",
    "    {\n",
    "        \"comp.windows.x\": \"computer\",\n",
    "        \"comp.sys.ibm.pc.hardware\": \"computer\",\n",
    "        \"comp.os.ms-windows.misc\": \"computer\",\n",
    "        \"comp.graphics\": \"computer\",\n",
    "        \"comp.sys.mac.hardware\": \"computer\",\n",
    "    },\n",
    "    inplace=True,\n",
    ")\n",
    "# replace to sales\n",
    "all_categories_df[\"label\"].replace({\"misc.forsale\": \"sales\"}, inplace=True)\n",
    "\n",
    "# replace to science\n",
    "all_categories_df[\"label\"].replace(\n",
    "    {\n",
    "        \"sci.crypt\": \"science\",\n",
    "        \"sci.electronics\": \"science\",\n",
    "        \"sci.med\": \"science\",\n",
    "        \"sci.space\": \"science\",\n",
    "    },\n",
    "    inplace=True,\n",
    ")"
   ]
  },
  {
   "cell_type": "markdown",
   "metadata": {},
   "source": [
    "Now we are left with 6 categories, which is much better."
   ]
  },
  {
   "cell_type": "code",
   "execution_count": 27,
   "metadata": {},
   "outputs": [
    {
     "data": {
      "text/plain": [
       "computer        5000\n",
       "science         4000\n",
       "recreational    4000\n",
       "politics        3000\n",
       "religion        2997\n",
       "sales           1000\n",
       "Name: label, dtype: int64"
      ]
     },
     "execution_count": 27,
     "metadata": {},
     "output_type": "execute_result"
    }
   ],
   "source": [
    "all_categories_df[\"label\"].value_counts()"
   ]
  },
  {
   "cell_type": "markdown",
   "metadata": {},
   "source": [
    "Let's calculate number of words for each row."
   ]
  },
  {
   "cell_type": "code",
   "execution_count": 28,
   "metadata": {},
   "outputs": [
    {
     "data": {
      "text/html": [
       "<div>\n",
       "<style scoped>\n",
       "    .dataframe tbody tr th:only-of-type {\n",
       "        vertical-align: middle;\n",
       "    }\n",
       "\n",
       "    .dataframe tbody tr th {\n",
       "        vertical-align: top;\n",
       "    }\n",
       "\n",
       "    .dataframe thead th {\n",
       "        text-align: right;\n",
       "    }\n",
       "</style>\n",
       "<table border=\"1\" class=\"dataframe\">\n",
       "  <thead>\n",
       "    <tr style=\"text-align: right;\">\n",
       "      <th></th>\n",
       "      <th>text</th>\n",
       "      <th>label</th>\n",
       "      <th>word_count</th>\n",
       "    </tr>\n",
       "  </thead>\n",
       "  <tbody>\n",
       "    <tr>\n",
       "      <th>0</th>\n",
       "      <td>almost sold but the potential buyer has an opp...</td>\n",
       "      <td>science</td>\n",
       "      <td>125</td>\n",
       "    </tr>\n",
       "    <tr>\n",
       "      <th>1</th>\n",
       "      <td>try finding a friend that has caller id then g...</td>\n",
       "      <td>science</td>\n",
       "      <td>82</td>\n",
       "    </tr>\n",
       "    <tr>\n",
       "      <th>2</th>\n",
       "      <td>i am not a battery expert but from recent read...</td>\n",
       "      <td>science</td>\n",
       "      <td>129</td>\n",
       "    </tr>\n",
       "    <tr>\n",
       "      <th>3</th>\n",
       "      <td>i understand that the new gps boxes now have a...</td>\n",
       "      <td>science</td>\n",
       "      <td>41</td>\n",
       "    </tr>\n",
       "    <tr>\n",
       "      <th>4</th>\n",
       "      <td>laser holes are or were used to prevent someon...</td>\n",
       "      <td>science</td>\n",
       "      <td>83</td>\n",
       "    </tr>\n",
       "  </tbody>\n",
       "</table>\n",
       "</div>"
      ],
      "text/plain": [
       "                                                text    label  word_count\n",
       "0  almost sold but the potential buyer has an opp...  science         125\n",
       "1  try finding a friend that has caller id then g...  science          82\n",
       "2  i am not a battery expert but from recent read...  science         129\n",
       "3  i understand that the new gps boxes now have a...  science          41\n",
       "4  laser holes are or were used to prevent someon...  science          83"
      ]
     },
     "execution_count": 28,
     "metadata": {},
     "output_type": "execute_result"
    }
   ],
   "source": [
    "all_categories_df[\"word_count\"] = all_categories_df[\"text\"].apply(lambda x: len(str(x).split()))\n",
    "all_categories_df.head()"
   ]
  },
  {
   "cell_type": "markdown",
   "metadata": {},
   "source": [
    "Let's get basic statistics about the dataset."
   ]
  },
  {
   "cell_type": "code",
   "execution_count": 29,
   "metadata": {},
   "outputs": [
    {
     "data": {
      "text/plain": [
       "count    19997.000000\n",
       "mean       159.346102\n",
       "std        434.479067\n",
       "min          0.000000\n",
       "25%         37.000000\n",
       "50%         74.000000\n",
       "75%        148.000000\n",
       "max      11351.000000\n",
       "Name: word_count, dtype: float64"
      ]
     },
     "execution_count": 29,
     "metadata": {},
     "output_type": "execute_result"
    }
   ],
   "source": [
    "all_categories_df[\"word_count\"].describe()"
   ]
  },
  {
   "cell_type": "markdown",
   "metadata": {},
   "source": [
    "We can see that the mean value is around 159 words. However, there are outliers, such as a text with 11351 words. This can make it harder for the model to result in good performance. We will take care to drop those rows.\n",
    "\n",
    "Let's drop empty rows first."
   ]
  },
  {
   "cell_type": "code",
   "execution_count": 30,
   "metadata": {},
   "outputs": [
    {
     "name": "stdout",
     "output_type": "stream",
     "text": [
      "90\n"
     ]
    }
   ],
   "source": [
    "no_text = all_categories_df[all_categories_df[\"word_count\"] == 0]\n",
    "print(len(no_text))\n",
    "\n",
    "# drop these rows\n",
    "all_categories_df.drop(no_text.index, inplace=True)"
   ]
  },
  {
   "cell_type": "markdown",
   "metadata": {},
   "source": [
    "Let's drop the rows that are longer than 256 words, as it is a length close to the mean value of the word count. This is done to make it easy for the model to train without outliers. "
   ]
  },
  {
   "cell_type": "code",
   "execution_count": 31,
   "metadata": {},
   "outputs": [
    {
     "name": "stdout",
     "output_type": "stream",
     "text": [
      "2409\n"
     ]
    }
   ],
   "source": [
    "long_text = all_categories_df[all_categories_df[\"word_count\"] > 256]\n",
    "print(len(long_text))\n",
    "\n",
    "# drop these rows\n",
    "all_categories_df.drop(long_text.index, inplace=True)"
   ]
  },
  {
   "cell_type": "code",
   "execution_count": 32,
   "metadata": {},
   "outputs": [
    {
     "data": {
      "text/plain": [
       "computer        4659\n",
       "recreational    3675\n",
       "science         3506\n",
       "politics        2370\n",
       "religion        2349\n",
       "sales            939\n",
       "Name: label, dtype: int64"
      ]
     },
     "execution_count": 32,
     "metadata": {},
     "output_type": "execute_result"
    }
   ],
   "source": [
    "all_categories_df[\"label\"].value_counts()"
   ]
  },
  {
   "cell_type": "markdown",
   "metadata": {},
   "source": [
    "Let's get basic statistics about the dataset after our outliers fixes."
   ]
  },
  {
   "cell_type": "code",
   "execution_count": 33,
   "metadata": {},
   "outputs": [
    {
     "data": {
      "text/plain": [
       "count    17498.000000\n",
       "mean        79.797348\n",
       "std         59.636188\n",
       "min          1.000000\n",
       "25%         33.000000\n",
       "50%         64.000000\n",
       "75%        113.000000\n",
       "max        256.000000\n",
       "Name: word_count, dtype: float64"
      ]
     },
     "execution_count": 33,
     "metadata": {},
     "output_type": "execute_result"
    }
   ],
   "source": [
    "all_categories_df[\"word_count\"].describe()"
   ]
  },
  {
   "cell_type": "markdown",
   "metadata": {},
   "source": [
    "This looks much more balanced.\n",
    "\n",
    "Now we drop the `word_count` columns as we will not need it anymore."
   ]
  },
  {
   "cell_type": "code",
   "execution_count": 34,
   "metadata": {},
   "outputs": [],
   "source": [
    "all_categories_df.drop(columns=\"word_count\", axis=1, inplace=True)"
   ]
  },
  {
   "cell_type": "code",
   "execution_count": 35,
   "metadata": {},
   "outputs": [
    {
     "data": {
      "text/html": [
       "<div>\n",
       "<style scoped>\n",
       "    .dataframe tbody tr th:only-of-type {\n",
       "        vertical-align: middle;\n",
       "    }\n",
       "\n",
       "    .dataframe tbody tr th {\n",
       "        vertical-align: top;\n",
       "    }\n",
       "\n",
       "    .dataframe thead th {\n",
       "        text-align: right;\n",
       "    }\n",
       "</style>\n",
       "<table border=\"1\" class=\"dataframe\">\n",
       "  <thead>\n",
       "    <tr style=\"text-align: right;\">\n",
       "      <th></th>\n",
       "      <th>text</th>\n",
       "      <th>label</th>\n",
       "    </tr>\n",
       "  </thead>\n",
       "  <tbody>\n",
       "    <tr>\n",
       "      <th>0</th>\n",
       "      <td>almost sold but the potential buyer has an opp...</td>\n",
       "      <td>science</td>\n",
       "    </tr>\n",
       "    <tr>\n",
       "      <th>1</th>\n",
       "      <td>try finding a friend that has caller id then g...</td>\n",
       "      <td>science</td>\n",
       "    </tr>\n",
       "    <tr>\n",
       "      <th>2</th>\n",
       "      <td>i am not a battery expert but from recent read...</td>\n",
       "      <td>science</td>\n",
       "    </tr>\n",
       "    <tr>\n",
       "      <th>3</th>\n",
       "      <td>i understand that the new gps boxes now have a...</td>\n",
       "      <td>science</td>\n",
       "    </tr>\n",
       "    <tr>\n",
       "      <th>4</th>\n",
       "      <td>laser holes are or were used to prevent someon...</td>\n",
       "      <td>science</td>\n",
       "    </tr>\n",
       "    <tr>\n",
       "      <th>...</th>\n",
       "      <td>...</td>\n",
       "      <td>...</td>\n",
       "    </tr>\n",
       "    <tr>\n",
       "      <th>19992</th>\n",
       "      <td>windows nt or wnt can also be derived by the n...</td>\n",
       "      <td>computer</td>\n",
       "    </tr>\n",
       "    <tr>\n",
       "      <th>19993</th>\n",
       "      <td>ive got a probelm with printing envelops on my...</td>\n",
       "      <td>computer</td>\n",
       "    </tr>\n",
       "    <tr>\n",
       "      <th>19994</th>\n",
       "      <td>i would like to find a windows driver for a vi...</td>\n",
       "      <td>computer</td>\n",
       "    </tr>\n",
       "    <tr>\n",
       "      <th>19995</th>\n",
       "      <td>i have an eisa machine and i just do not under...</td>\n",
       "      <td>computer</td>\n",
       "    </tr>\n",
       "    <tr>\n",
       "      <th>19996</th>\n",
       "      <td>i know this is probably a faq buti installed t...</td>\n",
       "      <td>computer</td>\n",
       "    </tr>\n",
       "  </tbody>\n",
       "</table>\n",
       "<p>17498 rows × 2 columns</p>\n",
       "</div>"
      ],
      "text/plain": [
       "                                                    text     label\n",
       "0      almost sold but the potential buyer has an opp...   science\n",
       "1      try finding a friend that has caller id then g...   science\n",
       "2      i am not a battery expert but from recent read...   science\n",
       "3      i understand that the new gps boxes now have a...   science\n",
       "4      laser holes are or were used to prevent someon...   science\n",
       "...                                                  ...       ...\n",
       "19992  windows nt or wnt can also be derived by the n...  computer\n",
       "19993  ive got a probelm with printing envelops on my...  computer\n",
       "19994  i would like to find a windows driver for a vi...  computer\n",
       "19995  i have an eisa machine and i just do not under...  computer\n",
       "19996  i know this is probably a faq buti installed t...  computer\n",
       "\n",
       "[17498 rows x 2 columns]"
      ]
     },
     "execution_count": 35,
     "metadata": {},
     "output_type": "execute_result"
    }
   ],
   "source": [
    "all_categories_df"
   ]
  },
  {
   "cell_type": "markdown",
   "metadata": {},
   "source": [
    "Let's convert categorical label to integer number, in order to prepare the dataset for training."
   ]
  },
  {
   "cell_type": "code",
   "execution_count": 36,
   "metadata": {},
   "outputs": [
    {
     "data": {
      "text/plain": [
       "['science', 'recreational', 'politics', 'religion', 'sales', 'computer']"
      ]
     },
     "execution_count": 36,
     "metadata": {},
     "output_type": "execute_result"
    }
   ],
   "source": [
    "categories = all_categories_df[\"label\"].unique().tolist()\n",
    "categories"
   ]
  },
  {
   "cell_type": "code",
   "execution_count": 37,
   "metadata": {},
   "outputs": [
    {
     "data": {
      "text/plain": [
       "1"
      ]
     },
     "execution_count": 37,
     "metadata": {},
     "output_type": "execute_result"
    }
   ],
   "source": [
    "categories.index(\"recreational\")"
   ]
  },
  {
   "cell_type": "code",
   "execution_count": 38,
   "metadata": {},
   "outputs": [],
   "source": [
    "all_categories_df[\"label\"] = all_categories_df[\"label\"].apply(lambda x: categories.index(x))"
   ]
  },
  {
   "cell_type": "code",
   "execution_count": 39,
   "metadata": {},
   "outputs": [
    {
     "data": {
      "text/plain": [
       "5    4659\n",
       "1    3675\n",
       "0    3506\n",
       "2    2370\n",
       "3    2349\n",
       "4     939\n",
       "Name: label, dtype: int64"
      ]
     },
     "execution_count": 39,
     "metadata": {},
     "output_type": "execute_result"
    }
   ],
   "source": [
    "all_categories_df[\"label\"].value_counts()"
   ]
  },
  {
   "cell_type": "markdown",
   "metadata": {},
   "source": [
    "We partition the dataset into 80% training and 20% validation set and save to `csv` files."
   ]
  },
  {
   "cell_type": "code",
   "execution_count": 40,
   "metadata": {},
   "outputs": [],
   "source": [
    "from sklearn.model_selection import train_test_split\n",
    "\n",
    "train_df, test_df = train_test_split(all_categories_df, test_size=0.2)"
   ]
  },
  {
   "cell_type": "code",
   "execution_count": 41,
   "metadata": {},
   "outputs": [],
   "source": [
    "train_df.to_csv(\"train.csv\", index=None)"
   ]
  },
  {
   "cell_type": "code",
   "execution_count": 42,
   "metadata": {},
   "outputs": [],
   "source": [
    "test_df.to_csv(\"test.csv\", index=None)"
   ]
  },
  {
   "cell_type": "markdown",
   "metadata": {},
   "source": [
    "Let's inspect the label distribution in the training dataset"
   ]
  },
  {
   "cell_type": "code",
   "execution_count": 43,
   "metadata": {},
   "outputs": [
    {
     "data": {
      "text/plain": [
       "5    3713\n",
       "1    2969\n",
       "0    2800\n",
       "2    1887\n",
       "3    1854\n",
       "4     775\n",
       "Name: label, dtype: int64"
      ]
     },
     "execution_count": 43,
     "metadata": {},
     "output_type": "execute_result"
    }
   ],
   "source": [
    "train_df[\"label\"].value_counts()"
   ]
  },
  {
   "cell_type": "markdown",
   "metadata": {},
   "source": [
    "Let's inspect the label distribution in the test dataset"
   ]
  },
  {
   "cell_type": "code",
   "execution_count": 44,
   "metadata": {},
   "outputs": [
    {
     "data": {
      "text/plain": [
       "5    946\n",
       "1    706\n",
       "0    706\n",
       "3    495\n",
       "2    483\n",
       "4    164\n",
       "Name: label, dtype: int64"
      ]
     },
     "execution_count": 44,
     "metadata": {},
     "output_type": "execute_result"
    }
   ],
   "source": [
    "test_df[\"label\"].value_counts()"
   ]
  },
  {
   "cell_type": "markdown",
   "metadata": {},
   "source": [
    "## Tokenization \n",
    "\n",
    "A tokenizer is in charge of preparing the inputs for a model. The library contains tokenizers for all the models. Most of the tokenizers are available in two flavors: a full python implementation and a “Fast” implementation based on the Rust library [tokenizers](https://github.com/huggingface/tokenizers). The “Fast” implementations allows:\n",
    "\n",
    " - A significant speed-up in particular when doing batched tokenization.\n",
    " - Additional methods to map between the original string (character and words) and the token space (e.g. getting the index of the token comprising a given character or the span of characters corresponding to a given token). "
   ]
  },
  {
   "cell_type": "code",
   "execution_count": 46,
   "metadata": {},
   "outputs": [],
   "source": [
    "from datasets import load_dataset\n",
    "from transformers import AutoTokenizer\n",
    "\n",
    "# tokenizer used in preprocessing\n",
    "tokenizer_name = \"distilbert-base-uncased\""
   ]
  },
  {
   "cell_type": "code",
   "execution_count": 47,
   "metadata": {},
   "outputs": [
    {
     "data": {
      "application/json": {
       "ascii": false,
       "bar_format": null,
       "colour": null,
       "elapsed": 0.013918399810791016,
       "initial": 0,
       "n": 0,
       "ncols": null,
       "nrows": null,
       "postfix": null,
       "prefix": "Downloading",
       "rate": null,
       "total": 28,
       "unit": "B",
       "unit_divisor": 1000,
       "unit_scale": true
      },
      "application/vnd.jupyter.widget-view+json": {
       "model_id": "21ad9ef8b6b1423cbb33c8bbd4c53f1e",
       "version_major": 2,
       "version_minor": 0
      },
      "text/plain": [
       "Downloading:   0%|          | 0.00/28.0 [00:00<?, ?B/s]"
      ]
     },
     "metadata": {},
     "output_type": "display_data"
    },
    {
     "data": {
      "application/json": {
       "ascii": false,
       "bar_format": null,
       "colour": null,
       "elapsed": 0.013724565505981445,
       "initial": 0,
       "n": 0,
       "ncols": null,
       "nrows": null,
       "postfix": null,
       "prefix": "Downloading",
       "rate": null,
       "total": 483,
       "unit": "B",
       "unit_divisor": 1000,
       "unit_scale": true
      },
      "application/vnd.jupyter.widget-view+json": {
       "model_id": "761feb904afb414d9ca9879a8beb0add",
       "version_major": 2,
       "version_minor": 0
      },
      "text/plain": [
       "Downloading:   0%|          | 0.00/483 [00:00<?, ?B/s]"
      ]
     },
     "metadata": {},
     "output_type": "display_data"
    },
    {
     "data": {
      "application/json": {
       "ascii": false,
       "bar_format": null,
       "colour": null,
       "elapsed": 0.013963699340820312,
       "initial": 0,
       "n": 0,
       "ncols": null,
       "nrows": null,
       "postfix": null,
       "prefix": "Downloading",
       "rate": null,
       "total": 231508,
       "unit": "B",
       "unit_divisor": 1000,
       "unit_scale": true
      },
      "application/vnd.jupyter.widget-view+json": {
       "model_id": "306543ecc0d6414884ae8a1182bc1d94",
       "version_major": 2,
       "version_minor": 0
      },
      "text/plain": [
       "Downloading:   0%|          | 0.00/232k [00:00<?, ?B/s]"
      ]
     },
     "metadata": {},
     "output_type": "display_data"
    },
    {
     "data": {
      "application/json": {
       "ascii": false,
       "bar_format": null,
       "colour": null,
       "elapsed": 0.02304840087890625,
       "initial": 0,
       "n": 0,
       "ncols": null,
       "nrows": null,
       "postfix": null,
       "prefix": "Downloading",
       "rate": null,
       "total": 466062,
       "unit": "B",
       "unit_divisor": 1000,
       "unit_scale": true
      },
      "application/vnd.jupyter.widget-view+json": {
       "model_id": "79e85712be934aa8a180ccf2f5f6b80e",
       "version_major": 2,
       "version_minor": 0
      },
      "text/plain": [
       "Downloading:   0%|          | 0.00/466k [00:00<?, ?B/s]"
      ]
     },
     "metadata": {},
     "output_type": "display_data"
    }
   ],
   "source": [
    "# download tokenizer\n",
    "tokenizer = AutoTokenizer.from_pretrained(tokenizer_name)"
   ]
  },
  {
   "cell_type": "markdown",
   "metadata": {},
   "source": [
    "### Load train and test datasets\n",
    "\n",
    "Let's create a [Dataset](https://huggingface.co/docs/datasets/loading_datasets.html) from our local `csv` files for training and test we saved earlier."
   ]
  },
  {
   "cell_type": "code",
   "execution_count": 48,
   "metadata": {},
   "outputs": [
    {
     "name": "stderr",
     "output_type": "stream",
     "text": [
      "Using custom data configuration default-ca8ab14bb88b658d\n"
     ]
    },
    {
     "name": "stdout",
     "output_type": "stream",
     "text": [
      "Downloading and preparing dataset csv/default to /root/.cache/huggingface/datasets/csv/default-ca8ab14bb88b658d/0.0.0/652c3096f041ee27b04d2232d41f10547a8fecda3e284a79a0ec4053c916ef7a...\n"
     ]
    },
    {
     "data": {
      "application/json": {
       "ascii": false,
       "bar_format": null,
       "colour": null,
       "elapsed": 0.029213905334472656,
       "initial": 0,
       "n": 0,
       "ncols": null,
       "nrows": null,
       "postfix": null,
       "prefix": "Downloading data files",
       "rate": null,
       "total": 2,
       "unit": "it",
       "unit_divisor": 1000,
       "unit_scale": false
      },
      "application/vnd.jupyter.widget-view+json": {
       "model_id": "d7b92a5c905242fa88362ab66c590926",
       "version_major": 2,
       "version_minor": 0
      },
      "text/plain": [
       "Downloading data files:   0%|          | 0/2 [00:00<?, ?it/s]"
      ]
     },
     "metadata": {},
     "output_type": "display_data"
    },
    {
     "data": {
      "application/json": {
       "ascii": false,
       "bar_format": null,
       "colour": null,
       "elapsed": 0.09879851341247559,
       "initial": 0,
       "n": 0,
       "ncols": null,
       "nrows": null,
       "postfix": null,
       "prefix": "Extracting data files",
       "rate": null,
       "total": 2,
       "unit": "it",
       "unit_divisor": 1000,
       "unit_scale": false
      },
      "application/vnd.jupyter.widget-view+json": {
       "model_id": "bd710d96356a486da8f075de0ce00e87",
       "version_major": 2,
       "version_minor": 0
      },
      "text/plain": [
       "Extracting data files:   0%|          | 0/2 [00:00<?, ?it/s]"
      ]
     },
     "metadata": {},
     "output_type": "display_data"
    },
    {
     "data": {
      "application/json": {
       "ascii": false,
       "bar_format": null,
       "colour": null,
       "elapsed": 0.04282355308532715,
       "initial": 0,
       "n": 0,
       "ncols": null,
       "nrows": null,
       "postfix": null,
       "prefix": "",
       "rate": null,
       "total": null,
       "unit": " tables",
       "unit_divisor": 1000,
       "unit_scale": false
      },
      "application/vnd.jupyter.widget-view+json": {
       "model_id": "37e5eadeb3b54e7592d9199ca83478ec",
       "version_major": 2,
       "version_minor": 0
      },
      "text/plain": [
       "0 tables [00:00, ? tables/s]"
      ]
     },
     "metadata": {},
     "output_type": "display_data"
    },
    {
     "data": {
      "application/json": {
       "ascii": false,
       "bar_format": null,
       "colour": null,
       "elapsed": 0.014523744583129883,
       "initial": 0,
       "n": 0,
       "ncols": null,
       "nrows": null,
       "postfix": null,
       "prefix": "",
       "rate": null,
       "total": null,
       "unit": " tables",
       "unit_divisor": 1000,
       "unit_scale": false
      },
      "application/vnd.jupyter.widget-view+json": {
       "model_id": "e9b9e96980bb4c84ae7d8595539999ad",
       "version_major": 2,
       "version_minor": 0
      },
      "text/plain": [
       "0 tables [00:00, ? tables/s]"
      ]
     },
     "metadata": {},
     "output_type": "display_data"
    },
    {
     "name": "stdout",
     "output_type": "stream",
     "text": [
      "Dataset csv downloaded and prepared to /root/.cache/huggingface/datasets/csv/default-ca8ab14bb88b658d/0.0.0/652c3096f041ee27b04d2232d41f10547a8fecda3e284a79a0ec4053c916ef7a. Subsequent calls will reuse this data.\n"
     ]
    },
    {
     "data": {
      "application/json": {
       "ascii": false,
       "bar_format": null,
       "colour": null,
       "elapsed": 0.014026880264282227,
       "initial": 0,
       "n": 0,
       "ncols": null,
       "nrows": null,
       "postfix": null,
       "prefix": "",
       "rate": null,
       "total": 2,
       "unit": "it",
       "unit_divisor": 1000,
       "unit_scale": false
      },
      "application/vnd.jupyter.widget-view+json": {
       "model_id": "2b47ea05100740edaf510d8f8c1dfb1e",
       "version_major": 2,
       "version_minor": 0
      },
      "text/plain": [
       "  0%|          | 0/2 [00:00<?, ?it/s]"
      ]
     },
     "metadata": {},
     "output_type": "display_data"
    }
   ],
   "source": [
    "dataset = load_dataset(\"csv\", data_files={\"train\": \"train.csv\", \"test\": \"test.csv\"})"
   ]
  },
  {
   "cell_type": "code",
   "execution_count": 49,
   "metadata": {},
   "outputs": [
    {
     "data": {
      "text/plain": [
       "DatasetDict({\n",
       "    train: Dataset({\n",
       "        features: ['text', 'label'],\n",
       "        num_rows: 13998\n",
       "    })\n",
       "    test: Dataset({\n",
       "        features: ['text', 'label'],\n",
       "        num_rows: 3500\n",
       "    })\n",
       "})"
      ]
     },
     "execution_count": 49,
     "metadata": {},
     "output_type": "execute_result"
    }
   ],
   "source": [
    "dataset"
   ]
  },
  {
   "cell_type": "code",
   "execution_count": 53,
   "metadata": {},
   "outputs": [],
   "source": [
    "# tokenizer helper function\n",
    "def tokenize(batch):\n",
    "    return tokenizer(batch[\"text\"], padding=\"max_length\", truncation=True)"
   ]
  },
  {
   "cell_type": "code",
   "execution_count": 50,
   "metadata": {},
   "outputs": [],
   "source": [
    "train_dataset = dataset[\"train\"]\n",
    "test_dataset = dataset[\"test\"]"
   ]
  },
  {
   "cell_type": "markdown",
   "metadata": {},
   "source": [
    "### Tokenize train and test datasets\n",
    "\n",
    "Let's tokenize the train dataset"
   ]
  },
  {
   "cell_type": "code",
   "execution_count": 54,
   "metadata": {},
   "outputs": [
    {
     "data": {
      "application/json": {
       "ascii": false,
       "bar_format": null,
       "colour": null,
       "elapsed": 0.07509350776672363,
       "initial": 0,
       "n": 0,
       "ncols": null,
       "nrows": null,
       "postfix": null,
       "prefix": "",
       "rate": null,
       "total": 14,
       "unit": "ba",
       "unit_divisor": 1000,
       "unit_scale": false
      },
      "application/vnd.jupyter.widget-view+json": {
       "model_id": "695f05bdde25427cb6a7d1e88d9a6d44",
       "version_major": 2,
       "version_minor": 0
      },
      "text/plain": [
       "  0%|          | 0/14 [00:00<?, ?ba/s]"
      ]
     },
     "metadata": {},
     "output_type": "display_data"
    }
   ],
   "source": [
    "train_dataset = dataset[\"train\"].map(tokenize, batched=True)"
   ]
  },
  {
   "cell_type": "markdown",
   "metadata": {},
   "source": [
    "Let's tokenize the test dataset"
   ]
  },
  {
   "cell_type": "code",
   "execution_count": 55,
   "metadata": {},
   "outputs": [
    {
     "data": {
      "application/json": {
       "ascii": false,
       "bar_format": null,
       "colour": null,
       "elapsed": 0.016695737838745117,
       "initial": 0,
       "n": 0,
       "ncols": null,
       "nrows": null,
       "postfix": null,
       "prefix": "",
       "rate": null,
       "total": 4,
       "unit": "ba",
       "unit_divisor": 1000,
       "unit_scale": false
      },
      "application/vnd.jupyter.widget-view+json": {
       "model_id": "1e3650b4b5f244b9814e1cda6129a0a5",
       "version_major": 2,
       "version_minor": 0
      },
      "text/plain": [
       "  0%|          | 0/4 [00:00<?, ?ba/s]"
      ]
     },
     "metadata": {},
     "output_type": "display_data"
    }
   ],
   "source": [
    "test_dataset = dataset[\"test\"].map(tokenize, batched=True)"
   ]
  },
  {
   "cell_type": "markdown",
   "metadata": {},
   "source": [
    "### Set format for PyTorch"
   ]
  },
  {
   "cell_type": "code",
   "execution_count": 56,
   "metadata": {},
   "outputs": [],
   "source": [
    "train_dataset = train_dataset.rename_column(\"label\", \"labels\")\n",
    "train_dataset.set_format(\"torch\", columns=[\"input_ids\", \"attention_mask\", \"labels\"])\n",
    "test_dataset = test_dataset.rename_column(\"label\", \"labels\")\n",
    "test_dataset.set_format(\"torch\", columns=[\"input_ids\", \"attention_mask\", \"labels\"])"
   ]
  },
  {
   "cell_type": "markdown",
   "metadata": {},
   "source": [
    "## Uploading data to `sagemaker_session_bucket`\n",
    "\n",
    "After we processed the datasets, we are going to upload it to S3."
   ]
  },
  {
   "cell_type": "code",
   "execution_count": 57,
   "metadata": {},
   "outputs": [
    {
     "name": "stdout",
     "output_type": "stream",
     "text": [
      "s3://sagemaker-us-east-1-415275363822/huggingface_serverless/20_newsgroups/train\n",
      "s3://sagemaker-us-east-1-415275363822/huggingface_serverless/20_newsgroups/test\n"
     ]
    }
   ],
   "source": [
    "import botocore\n",
    "from datasets.filesystems import S3FileSystem\n",
    "\n",
    "s3 = S3FileSystem()\n",
    "\n",
    "# save train_dataset to s3\n",
    "training_input_path = f\"s3://{sess.default_bucket()}/{s3_prefix}/train\"\n",
    "train_dataset.save_to_disk(training_input_path, fs=s3)\n",
    "\n",
    "# save test_dataset to s3\n",
    "test_input_path = f\"s3://{sess.default_bucket()}/{s3_prefix}/test\"\n",
    "test_dataset.save_to_disk(test_input_path, fs=s3)\n",
    "\n",
    "print(training_input_path)\n",
    "print(test_input_path)"
   ]
  },
  {
   "cell_type": "markdown",
   "metadata": {},
   "source": [
    "## Training the HuggingFace model for supervised text classification\n",
    "\n",
    "In order to create a sagemaker training job we need a `HuggingFace` Estimator. The Estimator handles end-to-end Amazon SageMaker training and deployment tasks. In an Estimator we define, which fine-tuning script should be used as `entry_point`, which `instance_type` should be used, which `hyperparameters` are passed in .....\n",
    "\n",
    "\n",
    "\n",
    "```python\n",
    "huggingface_estimator = HuggingFace(entry_point='train.py',\n",
    "                            source_dir='./code',\n",
    "                            instance_type='ml.p3.2xlarge',\n",
    "                            instance_count=1,\n",
    "                            volume_size=256,\n",
    "                            role=role,\n",
    "                            transformers_version='4.6',\n",
    "                            pytorch_version='1.7',\n",
    "                            py_version='py36',\n",
    "                            hyperparameters = {'epochs': 1,\n",
    "                                               'model_name':'distilbert-base-uncased',\n",
    "                                               'num_labels': 6\n",
    "                                              })\n",
    "```\n",
    "\n",
    "When we create a SageMaker training job, SageMaker takes care of starting and managing all the required ec2 instances for us with the `huggingface` container, uploads the provided fine-tuning script `train.py` and downloads the data from our `sagemaker_session_bucket` into the container at `/opt/ml/input/data`. Then, it starts the training job by running. \n",
    "\n",
    "```python\n",
    "/opt/conda/bin/python train.py --epochs 1 --model_name distilbert-base-uncased --num_labels 6\n",
    "```\n",
    "\n",
    "The `hyperparameters` you define in the `HuggingFace` estimator are passed in as named arguments. \n",
    "\n",
    "SageMaker is providing useful properties about the training environment through various environment variables, including the following:\n",
    "\n",
    "* `SM_MODEL_DIR`: A string that represents the path where the training job writes the model artifacts to. After training, artifacts in this directory are uploaded to S3 for model hosting.\n",
    "\n",
    "* `SM_NUM_GPUS`: An integer representing the number of GPUs available to the host.\n",
    "\n",
    "* `SM_CHANNEL_XXXX:` A string that represents the path to the directory that contains the input data for the specified channel. For example, if you specify two input channels in the HuggingFace estimator’s fit call, named `train` and `test`, the environment variables `SM_CHANNEL_TRAIN` and `SM_CHANNEL_TEST` are set.\n",
    "\n",
    "\n",
    "To run your training job locally you can define `instance_type='local'` or `instance_type='local-gpu'` for `gpu` usage. _Note: this does not work within SageMaker Studio_\n"
   ]
  },
  {
   "cell_type": "markdown",
   "metadata": {},
   "source": [
    "We create a metric_definition dictionary that contains regex-based definitions that will be used to parse the job logs and extract metrics"
   ]
  },
  {
   "cell_type": "code",
   "execution_count": 58,
   "metadata": {},
   "outputs": [],
   "source": [
    "metric_definitions = [\n",
    "    {\"Name\": \"loss\", \"Regex\": \"'loss': ([0-9]+(.|e\\-)[0-9]+),?\"},\n",
    "    {\"Name\": \"learning_rate\", \"Regex\": \"'learning_rate': ([0-9]+(.|e\\-)[0-9]+),?\"},\n",
    "    {\"Name\": \"eval_loss\", \"Regex\": \"'eval_loss': ([0-9]+(.|e\\-)[0-9]+),?\"},\n",
    "    {\"Name\": \"eval_accuracy\", \"Regex\": \"'eval_accuracy': ([0-9]+(.|e\\-)[0-9]+),?\"},\n",
    "    {\"Name\": \"eval_f1\", \"Regex\": \"'eval_f1': ([0-9]+(.|e\\-)[0-9]+),?\"},\n",
    "    {\"Name\": \"eval_precision\", \"Regex\": \"'eval_precision': ([0-9]+(.|e\\-)[0-9]+),?\"},\n",
    "    {\"Name\": \"eval_recall\", \"Regex\": \"'eval_recall': ([0-9]+(.|e\\-)[0-9]+),?\"},\n",
    "    {\"Name\": \"eval_runtime\", \"Regex\": \"'eval_runtime': ([0-9]+(.|e\\-)[0-9]+),?\"},\n",
    "    {\n",
    "        \"Name\": \"eval_samples_per_second\",\n",
    "        \"Regex\": \"'eval_samples_per_second': ([0-9]+(.|e\\-)[0-9]+),?\",\n",
    "    },\n",
    "    {\"Name\": \"epoch\", \"Regex\": \"'epoch': ([0-9]+(.|e\\-)[0-9]+),?\"},\n",
    "]"
   ]
  },
  {
   "cell_type": "markdown",
   "metadata": {},
   "source": [
    "## Creating an Estimator and start a training job"
   ]
  },
  {
   "cell_type": "code",
   "execution_count": 59,
   "metadata": {},
   "outputs": [],
   "source": [
    "from sagemaker.huggingface import HuggingFace\n",
    "\n",
    "# hyperparameters, which are passed into the training job\n",
    "hyperparameters = {\"epochs\": 3, \"model_name\": \"distilbert-base-uncased\", \"num_labels\": 6}"
   ]
  },
  {
   "cell_type": "markdown",
   "metadata": {},
   "source": [
    "Now, let's define the SageMaker `HuggingFace` estimator with resource configurations and hyperparameters to train Text Classification on `20 newsgroups` dataset, running on a `p3.2xlarge` instance."
   ]
  },
  {
   "cell_type": "code",
   "execution_count": 60,
   "metadata": {},
   "outputs": [],
   "source": [
    "huggingface_estimator = HuggingFace(\n",
    "    entry_point=\"train.py\",\n",
    "    source_dir=\"./\",\n",
    "    instance_type=\"ml.p3.2xlarge\",\n",
    "    instance_count=1,\n",
    "    volume_size=256,\n",
    "    role=role,\n",
    "    transformers_version=\"4.10\",\n",
    "    pytorch_version=\"1.9\",\n",
    "    py_version=\"py38\",\n",
    "    hyperparameters=hyperparameters,\n",
    "    metric_definitions=metric_definitions,\n",
    ")"
   ]
  },
  {
   "cell_type": "code",
   "execution_count": 61,
   "metadata": {
    "scrolled": true
   },
   "outputs": [
    {
     "ename": "ValueError",
     "evalue": "No file named \"train.py\" was found in directory \"./\".",
     "output_type": "error",
     "traceback": [
      "\u001b[0;31m---------------------------------------------------------------------------\u001b[0m",
      "\u001b[0;31mValueError\u001b[0m                                Traceback (most recent call last)",
      "\u001b[0;32m<ipython-input-61-015cc827b25b>\u001b[0m in \u001b[0;36m<module>\u001b[0;34m\u001b[0m\n\u001b[1;32m      1\u001b[0m \u001b[0;31m# starting the train job with our uploaded datasets as input\u001b[0m\u001b[0;34m\u001b[0m\u001b[0;34m\u001b[0m\u001b[0;34m\u001b[0m\u001b[0m\n\u001b[0;32m----> 2\u001b[0;31m \u001b[0mhuggingface_estimator\u001b[0m\u001b[0;34m.\u001b[0m\u001b[0mfit\u001b[0m\u001b[0;34m(\u001b[0m\u001b[0;34m{\u001b[0m\u001b[0;34m\"train\"\u001b[0m\u001b[0;34m:\u001b[0m \u001b[0mtraining_input_path\u001b[0m\u001b[0;34m,\u001b[0m \u001b[0;34m\"test\"\u001b[0m\u001b[0;34m:\u001b[0m \u001b[0mtest_input_path\u001b[0m\u001b[0;34m}\u001b[0m\u001b[0;34m)\u001b[0m\u001b[0;34m\u001b[0m\u001b[0;34m\u001b[0m\u001b[0m\n\u001b[0m",
      "\u001b[0;32m/opt/conda/lib/python3.8/site-packages/sagemaker/workflow/pipeline_context.py\u001b[0m in \u001b[0;36mwrapper\u001b[0;34m(*args, **kwargs)\u001b[0m\n\u001b[1;32m    246\u001b[0m             \u001b[0;32mreturn\u001b[0m \u001b[0mself_instance\u001b[0m\u001b[0;34m.\u001b[0m\u001b[0msagemaker_session\u001b[0m\u001b[0;34m.\u001b[0m\u001b[0mcontext\u001b[0m\u001b[0;34m\u001b[0m\u001b[0;34m\u001b[0m\u001b[0m\n\u001b[1;32m    247\u001b[0m \u001b[0;34m\u001b[0m\u001b[0m\n\u001b[0;32m--> 248\u001b[0;31m         \u001b[0;32mreturn\u001b[0m \u001b[0mrun_func\u001b[0m\u001b[0;34m(\u001b[0m\u001b[0;34m*\u001b[0m\u001b[0margs\u001b[0m\u001b[0;34m,\u001b[0m \u001b[0;34m**\u001b[0m\u001b[0mkwargs\u001b[0m\u001b[0;34m)\u001b[0m\u001b[0;34m\u001b[0m\u001b[0;34m\u001b[0m\u001b[0m\n\u001b[0m\u001b[1;32m    249\u001b[0m \u001b[0;34m\u001b[0m\u001b[0m\n\u001b[1;32m    250\u001b[0m     \u001b[0;32mreturn\u001b[0m \u001b[0mwrapper\u001b[0m\u001b[0;34m\u001b[0m\u001b[0;34m\u001b[0m\u001b[0m\n",
      "\u001b[0;32m/opt/conda/lib/python3.8/site-packages/sagemaker/estimator.py\u001b[0m in \u001b[0;36mfit\u001b[0;34m(self, inputs, wait, logs, job_name, experiment_config)\u001b[0m\n\u001b[1;32m   1098\u001b[0m             \u001b[0;34m:\u001b[0m\u001b[0;32mclass\u001b[0m\u001b[0;34m:\u001b[0m\u001b[0;31m`\u001b[0m\u001b[0;34m~\u001b[0m\u001b[0msagemaker\u001b[0m\u001b[0;34m.\u001b[0m\u001b[0mworkflow\u001b[0m\u001b[0;34m.\u001b[0m\u001b[0mpipeline_context\u001b[0m\u001b[0;34m.\u001b[0m\u001b[0mPipelineSession\u001b[0m\u001b[0;31m`\u001b[0m\u001b[0;34m\u001b[0m\u001b[0;34m\u001b[0m\u001b[0m\n\u001b[1;32m   1099\u001b[0m         \"\"\"\n\u001b[0;32m-> 1100\u001b[0;31m         \u001b[0mself\u001b[0m\u001b[0;34m.\u001b[0m\u001b[0m_prepare_for_training\u001b[0m\u001b[0;34m(\u001b[0m\u001b[0mjob_name\u001b[0m\u001b[0;34m=\u001b[0m\u001b[0mjob_name\u001b[0m\u001b[0;34m)\u001b[0m\u001b[0;34m\u001b[0m\u001b[0;34m\u001b[0m\u001b[0m\n\u001b[0m\u001b[1;32m   1101\u001b[0m \u001b[0;34m\u001b[0m\u001b[0m\n\u001b[1;32m   1102\u001b[0m         \u001b[0mself\u001b[0m\u001b[0;34m.\u001b[0m\u001b[0mlatest_training_job\u001b[0m \u001b[0;34m=\u001b[0m \u001b[0m_TrainingJob\u001b[0m\u001b[0;34m.\u001b[0m\u001b[0mstart_new\u001b[0m\u001b[0;34m(\u001b[0m\u001b[0mself\u001b[0m\u001b[0;34m,\u001b[0m \u001b[0minputs\u001b[0m\u001b[0;34m,\u001b[0m \u001b[0mexperiment_config\u001b[0m\u001b[0;34m)\u001b[0m\u001b[0;34m\u001b[0m\u001b[0;34m\u001b[0m\u001b[0m\n",
      "\u001b[0;32m/opt/conda/lib/python3.8/site-packages/sagemaker/estimator.py\u001b[0m in \u001b[0;36m_prepare_for_training\u001b[0;34m(self, job_name)\u001b[0m\n\u001b[1;32m   2984\u001b[0m                 \u001b[0mconstructor\u001b[0m \u001b[0;32mif\u001b[0m \u001b[0mapplicable\u001b[0m\u001b[0;34m.\u001b[0m\u001b[0;34m\u001b[0m\u001b[0;34m\u001b[0m\u001b[0m\n\u001b[1;32m   2985\u001b[0m         \"\"\"\n\u001b[0;32m-> 2986\u001b[0;31m         \u001b[0msuper\u001b[0m\u001b[0;34m(\u001b[0m\u001b[0mFramework\u001b[0m\u001b[0;34m,\u001b[0m \u001b[0mself\u001b[0m\u001b[0;34m)\u001b[0m\u001b[0;34m.\u001b[0m\u001b[0m_prepare_for_training\u001b[0m\u001b[0;34m(\u001b[0m\u001b[0mjob_name\u001b[0m\u001b[0;34m=\u001b[0m\u001b[0mjob_name\u001b[0m\u001b[0;34m)\u001b[0m\u001b[0;34m\u001b[0m\u001b[0;34m\u001b[0m\u001b[0m\n\u001b[0m\u001b[1;32m   2987\u001b[0m \u001b[0;34m\u001b[0m\u001b[0m\n\u001b[1;32m   2988\u001b[0m         \u001b[0mself\u001b[0m\u001b[0;34m.\u001b[0m\u001b[0m_validate_and_set_debugger_configs\u001b[0m\u001b[0;34m(\u001b[0m\u001b[0;34m)\u001b[0m\u001b[0;34m\u001b[0m\u001b[0;34m\u001b[0m\u001b[0m\n",
      "\u001b[0;32m/opt/conda/lib/python3.8/site-packages/sagemaker/estimator.py\u001b[0m in \u001b[0;36m_prepare_for_training\u001b[0;34m(self, job_name)\u001b[0m\n\u001b[1;32m    720\u001b[0m                 \u001b[0;32mand\u001b[0m \u001b[0;32mnot\u001b[0m \u001b[0mself\u001b[0m\u001b[0;34m.\u001b[0m\u001b[0msource_dir\u001b[0m\u001b[0;34m.\u001b[0m\u001b[0mlower\u001b[0m\u001b[0;34m(\u001b[0m\u001b[0;34m)\u001b[0m\u001b[0;34m.\u001b[0m\u001b[0mstartswith\u001b[0m\u001b[0;34m(\u001b[0m\u001b[0;34m\"s3://\"\u001b[0m\u001b[0;34m)\u001b[0m\u001b[0;34m\u001b[0m\u001b[0;34m\u001b[0m\u001b[0m\n\u001b[1;32m    721\u001b[0m             ):\n\u001b[0;32m--> 722\u001b[0;31m                 \u001b[0mvalidate_source_dir\u001b[0m\u001b[0;34m(\u001b[0m\u001b[0mself\u001b[0m\u001b[0;34m.\u001b[0m\u001b[0mentry_point\u001b[0m\u001b[0;34m,\u001b[0m \u001b[0mself\u001b[0m\u001b[0;34m.\u001b[0m\u001b[0msource_dir\u001b[0m\u001b[0;34m)\u001b[0m\u001b[0;34m\u001b[0m\u001b[0;34m\u001b[0m\u001b[0m\n\u001b[0m\u001b[1;32m    723\u001b[0m \u001b[0;34m\u001b[0m\u001b[0m\n\u001b[1;32m    724\u001b[0m             \u001b[0;31m# if we are in local mode with local_code=True. We want the container to just\u001b[0m\u001b[0;34m\u001b[0m\u001b[0;34m\u001b[0m\u001b[0;34m\u001b[0m\u001b[0m\n",
      "\u001b[0;32m/opt/conda/lib/python3.8/site-packages/sagemaker/fw_utils.py\u001b[0m in \u001b[0;36mvalidate_source_dir\u001b[0;34m(script, directory)\u001b[0m\n\u001b[1;32m    150\u001b[0m     \u001b[0;32mif\u001b[0m \u001b[0mdirectory\u001b[0m\u001b[0;34m:\u001b[0m\u001b[0;34m\u001b[0m\u001b[0;34m\u001b[0m\u001b[0m\n\u001b[1;32m    151\u001b[0m         \u001b[0;32mif\u001b[0m \u001b[0;32mnot\u001b[0m \u001b[0mos\u001b[0m\u001b[0;34m.\u001b[0m\u001b[0mpath\u001b[0m\u001b[0;34m.\u001b[0m\u001b[0misfile\u001b[0m\u001b[0;34m(\u001b[0m\u001b[0mos\u001b[0m\u001b[0;34m.\u001b[0m\u001b[0mpath\u001b[0m\u001b[0;34m.\u001b[0m\u001b[0mjoin\u001b[0m\u001b[0;34m(\u001b[0m\u001b[0mdirectory\u001b[0m\u001b[0;34m,\u001b[0m \u001b[0mscript\u001b[0m\u001b[0;34m)\u001b[0m\u001b[0;34m)\u001b[0m\u001b[0;34m:\u001b[0m\u001b[0;34m\u001b[0m\u001b[0;34m\u001b[0m\u001b[0m\n\u001b[0;32m--> 152\u001b[0;31m             raise ValueError(\n\u001b[0m\u001b[1;32m    153\u001b[0m                 \u001b[0;34m'No file named \"{}\" was found in directory \"{}\".'\u001b[0m\u001b[0;34m.\u001b[0m\u001b[0mformat\u001b[0m\u001b[0;34m(\u001b[0m\u001b[0mscript\u001b[0m\u001b[0;34m,\u001b[0m \u001b[0mdirectory\u001b[0m\u001b[0;34m)\u001b[0m\u001b[0;34m\u001b[0m\u001b[0;34m\u001b[0m\u001b[0m\n\u001b[1;32m    154\u001b[0m             )\n",
      "\u001b[0;31mValueError\u001b[0m: No file named \"train.py\" was found in directory \"./\"."
     ]
    }
   ],
   "source": [
    "# starting the train job with our uploaded datasets as input\n",
    "huggingface_estimator.fit({\"train\": training_input_path, \"test\": test_input_path})"
   ]
  },
  {
   "cell_type": "markdown",
   "metadata": {},
   "source": [
    "## Deployment"
   ]
  },
  {
   "cell_type": "markdown",
   "metadata": {},
   "source": [
    "### Serverless Configuration\n",
    "\n",
    "#### Memory size - `memory_size_in_mb`\n",
    "Your serverless endpoint has a minimum RAM size of <b>1024 MB (1 GB)</b>, and the maximum RAM size you can choose is 6144 MB (6 GB). The memory sizes you can select are <b>1024 MB</b>, <b>2048 MB</b>, <b>3072 MB</b>, <b>4096 MB</b>, <b>5120 MB</b>, or <b>6144 MB. Serverless Inference auto-assigns compute resources proportional to the memory you select. If you select a larger memory size, your container has access to more `vCPUs`. Select your endpoint’s memory size according to your model size. Generally, the memory size should be at least as large as your model size. You may need to benchmark in order to select the right memory selection for your model based on your latency SLAs. The memory size increments have different pricing; see the Amazon SageMaker pricing page for more information.\n",
    "\n",
    "#### Concurrent invocations - `max_concurrency`\n",
    "   \n",
    "Serverless Inference manages predefined scaling policies and quotas for the capacity of your endpoint. Serverless endpoints have a quota for how many concurrent invocations can be processed at the same time. If the endpoint is invoked before it finishes processing the first request, then it handles the second request concurrently. You can set the maximum concurrency for a <b>single endpoint up to 50</b>, and the total number of serverless endpoint variants you can host in a Region is 50. The total concurrency you can share between all serverless endpoints per Region in your account is 200. The maximum concurrency for an individual endpoint prevents that endpoint from taking up all the invocations allowed for your account, and any endpoint invocations beyond the maximum are throttled."
   ]
  },
  {
   "cell_type": "code",
   "execution_count": 1,
   "metadata": {},
   "outputs": [],
   "source": [
    "from sagemaker.serverless.serverless_inference_config import ServerlessInferenceConfig\n",
    "\n",
    "serverless_config = ServerlessInferenceConfig(\n",
    "    memory_size_in_mb=6144,\n",
    "    max_concurrency=2,\n",
    ")"
   ]
  },
  {
   "cell_type": "markdown",
   "metadata": {},
   "source": [
    "### HuggingFace Inference Image `URI`\n",
    "\n",
    "In order to deploy the SageMaker Endpoint with Serverless configuration, we will need to supply the HuggingFace Inference Image URI."
   ]
  },
  {
   "cell_type": "code",
   "execution_count": 64,
   "metadata": {},
   "outputs": [
    {
     "data": {
      "text/plain": [
       "'763104351884.dkr.ecr.us-west-2.amazonaws.com/huggingface-pytorch-inference:1.9-transformers4.10-cpu-py38-ubuntu20.04'"
      ]
     },
     "execution_count": 64,
     "metadata": {},
     "output_type": "execute_result"
    }
   ],
   "source": [
    "image_uri = sagemaker.image_uris.retrieve(\n",
    "    framework=\"huggingface\",\n",
    "    base_framework_version=\"pytorch1.9\",\n",
    "    region=sess.boto_region_name,\n",
    "    version=\"4.10\",\n",
    "    py_version=\"py38\",\n",
    "    instance_type=\"ml.m5.large\",\n",
    "    image_scope=\"inference\",\n",
    ")\n",
    "image_uri"
   ]
  },
  {
   "cell_type": "markdown",
   "metadata": {},
   "source": [
    "### Serverless Endpoint Creation\n",
    "Now that we have a `ServerlessInferenceConfig`, we can create a serverless endpoint and deploy our model to it."
   ]
  },
  {
   "cell_type": "code",
   "execution_count": null,
   "metadata": {},
   "outputs": [
    {
     "name": "stdout",
     "output_type": "stream",
     "text": [
      "------------"
     ]
    }
   ],
   "source": [
    "%%time\n",
    "\n",
    "predictor = huggingface_estimator.deploy(\n",
    "    serverless_inference_config=serverless_config, image_uri=image_uri\n",
    ")"
   ]
  },
  {
   "cell_type": "markdown",
   "metadata": {},
   "source": [
    "## Endpoint Invocation\n",
    "\n",
    "Using few samples, you can now invoke the SageMaker endpoint to get predictions."
   ]
  },
  {
   "cell_type": "code",
   "execution_count": null,
   "metadata": {},
   "outputs": [],
   "source": [
    "def predict_sentence(sentence):\n",
    "    result = predictor.predict({\"inputs\": sentence})\n",
    "    index = int(result[0][\"label\"].split(\"LABEL_\")[1])\n",
    "    print(categories[index])"
   ]
  },
  {
   "cell_type": "code",
   "execution_count": null,
   "metadata": {},
   "outputs": [],
   "source": [
    "sentences = [\n",
    "    \"The modem is an internal AT/(E)ISA 8-bit card (just a little longer than a half-card).\",\n",
    "    \"In the cage I usually wave to bikers.  They usually don't wave back.  My wife thinks it's strange but I don't care.\",\n",
    "    \"Voyager has the unusual luck to be on a stable trajectory out of the solar system.\",\n",
    "]\n",
    "\n",
    "# using the same processing logic that we used during data preparation for training\n",
    "processed_sentences = process_text(sentences)\n",
    "\n",
    "for sentence in processed_sentences:\n",
    "    predict_sentence(sentence)"
   ]
  },
  {
   "cell_type": "markdown",
   "metadata": {},
   "source": [
    "### Invoke a deployed endpoint"
   ]
  },
  {
   "cell_type": "code",
   "execution_count": 45,
   "metadata": {},
   "outputs": [
    {
     "name": "stdout",
     "output_type": "stream",
     "text": [
      "{\n",
      "    \"Endpoints\": [\n",
      "        {\n",
      "            \"EndpointName\": \"deepar-electricity-demo-new-features-2022-08-05-21-30-57-463\",\n",
      "            \"EndpointArn\": \"arn:aws:sagemaker:us-east-1:415275363822:endpoint/deepar-electricity-demo-new-features-2022-08-05-21-30-57-463\",\n",
      "            \"CreationTime\": 1659735058.258,\n",
      "            \"LastModifiedTime\": 1659735209.12,\n",
      "            \"EndpointStatus\": \"InService\"\n",
      "        },\n",
      "        {\n",
      "            \"EndpointName\": \"deepar-electricity-demo-2022-08-05-20-48-23-534\",\n",
      "            \"EndpointArn\": \"arn:aws:sagemaker:us-east-1:415275363822:endpoint/deepar-electricity-demo-2022-08-05-20-48-23-534\",\n",
      "            \"CreationTime\": 1659732504.326,\n",
      "            \"LastModifiedTime\": 1659732645.499,\n",
      "            \"EndpointStatus\": \"InService\"\n",
      "        },\n",
      "        {\n",
      "            \"EndpointName\": \"demand-forecast-deepar-2022-08-05-20-25-48-159\",\n",
      "            \"EndpointArn\": \"arn:aws:sagemaker:us-east-1:415275363822:endpoint/demand-forecast-deepar-2022-08-05-20-25-48-159\",\n",
      "            \"CreationTime\": 1659731495.039,\n",
      "            \"LastModifiedTime\": 1659731688.384,\n",
      "            \"EndpointStatus\": \"InService\"\n",
      "        },\n",
      "        {\n",
      "            \"EndpointName\": \"deep-demand-forecasting-ep\",\n",
      "            \"EndpointArn\": \"arn:aws:sagemaker:us-east-1:415275363822:endpoint/deep-demand-forecasting-ep\",\n",
      "            \"CreationTime\": 1659726680.814,\n",
      "            \"LastModifiedTime\": 1659726811.263,\n",
      "            \"EndpointStatus\": \"InService\"\n",
      "        },\n",
      "        {\n",
      "            \"EndpointName\": \"huggingface-pytorch-inference-2022-07-29-22-20-13-418\",\n",
      "            \"EndpointArn\": \"arn:aws:sagemaker:us-east-1:415275363822:endpoint/huggingface-pytorch-inference-2022-07-29-22-20-13-418\",\n",
      "            \"CreationTime\": 1659133213.711,\n",
      "            \"LastModifiedTime\": 1659133345.221,\n",
      "            \"EndpointStatus\": \"InService\"\n",
      "        },\n",
      "        {\n",
      "            \"EndpointName\": \"vit-cifar10-pt110-inf-2022-07-27-20-39-35\",\n",
      "            \"EndpointArn\": \"arn:aws:sagemaker:us-east-1:415275363822:endpoint/vit-cifar10-pt110-inf-2022-07-27-20-39-35\",\n",
      "            \"CreationTime\": 1658954375.992,\n",
      "            \"LastModifiedTime\": 1658954580.345,\n",
      "            \"EndpointStatus\": \"InService\"\n",
      "        }\n",
      "    ]\n",
      "}\n"
     ]
    }
   ],
   "source": [
    "!aws sagemaker list-endpoints"
   ]
  },
  {
   "cell_type": "code",
   "execution_count": 21,
   "metadata": {},
   "outputs": [],
   "source": [
    "from transformers import pipeline\n",
    "generator = pipeline('text-generation', model = 'gpt2')"
   ]
  },
  {
   "cell_type": "code",
   "execution_count": 56,
   "metadata": {},
   "outputs": [
    {
     "name": "stderr",
     "output_type": "stream",
     "text": [
      "Setting `pad_token_id` to `eos_token_id`:50256 for open-end generation.\n"
     ]
    }
   ],
   "source": [
    "Payloads = generator(\"Elon Musk's Twitter acquisition\", max_length = 80, num_return_sequences=200)"
   ]
  },
  {
   "cell_type": "code",
   "execution_count": 54,
   "metadata": {
    "collapsed": true,
    "jupyter": {
     "outputs_hidden": true
    },
    "tags": []
   },
   "outputs": [
    {
     "data": {
      "text/plain": [
       "[{'generated_text': \"Elon Musk's Twitter acquisition looks to be another example with Tesla. Musk has said that Musk will help the company establish its own distribution center network in California, which will help ensure that all cars sold within that region are sold at the same prices on the rest of the U.S.' roads.\\n\\nWhile the details of the move were left to Tesla employees, Bloomberg notes that Musk's team\"},\n",
       " {'generated_text': 'Elon Musk\\'s Twitter acquisition of Tesla seems a bit more like a marketing ploy than something to be taken seriously by the media.\\n\\nNow, I don\\'t think it\\'s because Musk is a \"great guy,\" as everyone is being falsely accused of, or because he\\'s a narcissist; he really has the personality — and his energy and enthusiasm and determination to become the greatest engineer in history'},\n",
       " {'generated_text': \"Elon Musk's Twitter acquisition is one of the biggest, most interesting and interesting business deals in the internet age. This also has several interesting things happening. First of all, there are a lot of people with money. It's a business model that has huge potential in the long run... and also in the short term, many of the other big players in the internet space have a long-term\"},\n",
       " {'generated_text': \"Elon Musk's Twitter acquisition makes a lot of sense. Tesla may want to keep buying its current manufacturing facility and investing in its other manufacturing lines, even if it makes fewer profits (or possibly doesn't). Its business model in the United States isn't very business-like and it doesn't have good management to back it up with good results.\\n\\nWhen I asked Musk if Tesla did not\"},\n",
       " {'generated_text': 'Elon Musk\\'s Twitter acquisition continues to expand on several other fronts, including the role of social media to address more issues than ever.\\n\\nFor example, Musk recently announced Musk\\'s plan to build his first business that would become the world\\'s foremost in aerospace. The initial version of the Falcon-25, called the \"Space X Flight Simulation Hub,\" was built by Boeing Space Systems to simulate'},\n",
       " {'generated_text': \"Elon Musk's Twitter acquisition of Titan Air—which is also an investment in SpaceX—was announced on March 28.\\n\\nSpaceX's announcement comes one day after a group of scientists announced Tuesday that it is scaling up its long-term research program to develop vehicles for the next generation of spaceplanes. While the company does not yet reveal the technology it is developing for the next generation of astronauts\"},\n",
       " {'generated_text': \"Elon Musk's Twitter acquisition of Facebook ended in a blow to rival company Facebook.\\n\\nTesla, which is owned by Tesla Motors, closed for $5 billion Thursday. Tesla shares jumped more than 2 percent to $33.31 in premarket trading.\\n\\nThe deal followed the company's announcement Friday that Musk, 61, was the original owner of Musk Motors, a lithium-ion battery\"},\n",
       " {'generated_text': \"Elon Musk's Twitter acquisition last week was an attempt to shore up the Space Race between Elon Musk and Boeing by selling the company to Boeing. That plan was thwarted by a court ruling, and in the wake of that, President Barack Obama has vowed to end the Air Force's involvement in NASA.\\n\\nIn May 2013, NASA's Office of Science Devolutions issued an internal request for advice on\"},\n",
       " {'generated_text': \"Elon Musk's Twitter acquisition of a second startup to develop a business program has been widely believed to have been done to bolster the company's efforts to expand beyond gaming, particularly as the company's share price has fallen steadily over the last two days. While the price of an Xbox One and three more are expected to hit $500 with sales likely increasing in the coming months, that may not prove to\"},\n",
       " {'generated_text': \"Elon Musk's Twitter acquisition is a bold move, and many investors felt the investor was in the wrong place at the wrong time.\"},\n",
       " {'generated_text': 'Elon Musk\\'s Twitter acquisition of T-Mobile has ignited a debate among the tech industry over the viability of T-Mobile\\'s plans. In a report released Friday, the Mobile Industry Association found that more than 1,000 new customers would cancel their plans.\\n\\nMusk, a former CEO of T-Mobile and executive vice president of communications in Travail, called this \"market failure'},\n",
       " {'generated_text': 'Elon Musk\\'s Twitter acquisition\\n\\nMusk told VentureBeat that Tesla\\'s new headquarters in Hawthorne, California, is a unique opportunity.\\n\\nHe claimed that Musk is \"going to build another skyscraper in one city\" after he bought Tesla in 2013.\\n\\nWith Tesla\\'s financial performance at its lowest level since 2005, Musk is expected to spend between $35 million and $50'},\n",
       " {'generated_text': \"Elon Musk's Twitter acquisition is going on its way at the moment, and if you look closely at the list, there's a clear, clear pattern with how it works. It will be a few months before it becomes mainstream, and there's actually no reason for the company not to work on Tesla on the car project as it exists right now, since Tesla would probably want to create its own\"},\n",
       " {'generated_text': \"Elon Musk's Twitter acquisition includes two other companies, and the U.S. Department of Energy (DOE), which has been in partnership with EROI for almost a year, is expected to begin reviewing the sale of SolarCity's assets. This is not the first meeting of its kind between the two companies.\\n\\nThe Wall Street Journal reports that ExxonMobil had reached an agreement to\"},\n",
       " {'generated_text': \"Elon Musk's Twitter acquisition of LinkedIn was well underway. There are reports that Musk was given the CEO role by Microsoft in his quest to lead the $20 billion tech start-up.\\n\\nMicrosoft wants Musk to helm that tech business but could take a job as cofounder of Google. More to come.\\n\\nA former CEO of Tesla Motors was also mentioned.\\n\\nRelated:\\n\"},\n",
       " {'generated_text': \"Elon Musk's Twitter acquisition of New York's TIFF\\n\\nThe San Francisco-based operator of Twitter will acquire New York-based TIFF, after a two-year search conducted by The Wall Street Journal at last February's New York Stock Exchange and other publications. The transaction was approved by Fidelity Holdings LP, valued at P/E $6.15 billion at 6.38 percent\"},\n",
       " {'generated_text': \"Elon Musk's Twitter acquisition of Instagram has made headlines. In March, the world's largest social network announced that the company had signed a deal to build a social network for entrepreneurs and other large financial institutions. Today, the Twitter giant has a billion users and, with $13.6 billion in revenue, operates more than 250 million sites. The new app, dubbed Facebook Messenger, will replace Messenger\"},\n",
       " {'generated_text': \"Elon Musk's Twitter acquisition of SpaceX, and Elon is taking a closer look at the technology he'll be working with in the coming months, just days before the launch of the Falcon 9 rocket, reports Wired.\\n\\nMusk's plan for SpaceX to be the first commercial flight to include a cargo ship is currently under-developed, but he has expressed interest in looking at whether to develop\"},\n",
       " {'generated_text': \"Elon Musk's Twitter acquisition is not surprising given that the company operates more than 20,000 solar installations per year in the United States and 20,000 other green technologies. Musk has previously stated that solar is likely to create as much as two-thirds of global green energy by 2020, based on the use of solar electricity.\\n\\nThe deal is expected to net Tesla $40 billion over 10\"},\n",
       " {'generated_text': 'Elon Musk\\'s Twitter acquisition is only the latest high-profile example of the company having a significant influence on the way people think about the company.\"\\n\\nAs Bloomberg notes:\\n\\nWith the help of an undisclosed government source, it emerged last week that Tesla Co is reportedly planning a $2 billion investment. A government source has told Bloomberg in two separate phone calls this week that the deal will'}]"
      ]
     },
     "execution_count": 54,
     "metadata": {},
     "output_type": "execute_result"
    }
   ],
   "source": [
    "Payloads"
   ]
  },
  {
   "cell_type": "code",
   "execution_count": 57,
   "metadata": {},
   "outputs": [
    {
     "name": "stdout",
     "output_type": "stream",
     "text": [
      "[{\"label\":\"LABEL_3\",\"score\":0.5238500833511353}]\n",
      "[{\"label\":\"LABEL_3\",\"score\":0.9861999750137329}]\n",
      "[{\"label\":\"LABEL_1\",\"score\":0.9365861415863037}]\n",
      "[{\"label\":\"LABEL_1\",\"score\":0.7964444756507874}]\n",
      "[{\"label\":\"LABEL_3\",\"score\":0.9765886068344116}]\n",
      "[{\"label\":\"LABEL_1\",\"score\":0.9878882765769958}]\n",
      "[{\"label\":\"LABEL_3\",\"score\":0.9759885668754578}]\n",
      "[{\"label\":\"LABEL_1\",\"score\":0.971071720123291}]\n",
      "[{\"label\":\"LABEL_1\",\"score\":0.6195178627967834}]\n",
      "[{\"label\":\"LABEL_4\",\"score\":0.9910324215888977}]\n",
      "[{\"label\":\"LABEL_3\",\"score\":0.9304075241088867}]\n",
      "[{\"label\":\"LABEL_3\",\"score\":0.7927928566932678}]\n",
      "[{\"label\":\"LABEL_3\",\"score\":0.9872843027114868}]\n",
      "[{\"label\":\"LABEL_0\",\"score\":0.7753292918205261}]\n",
      "[{\"label\":\"LABEL_4\",\"score\":0.9681625962257385}]\n",
      "[{\"label\":\"LABEL_3\",\"score\":0.9863579273223877}]\n",
      "[{\"label\":\"LABEL_3\",\"score\":0.527592122554779}]\n",
      "[{\"label\":\"LABEL_4\",\"score\":0.5489237308502197}]\n",
      "[{\"label\":\"LABEL_3\",\"score\":0.9933062195777893}]\n",
      "[{\"label\":\"LABEL_3\",\"score\":0.985008955001831}]\n",
      "[{\"label\":\"LABEL_0\",\"score\":0.6789974570274353}]\n",
      "[{\"label\":\"LABEL_3\",\"score\":0.9937187433242798}]\n",
      "[{\"label\":\"LABEL_3\",\"score\":0.45356109738349915}]\n",
      "[{\"label\":\"LABEL_3\",\"score\":0.736049234867096}]\n",
      "[{\"label\":\"LABEL_3\",\"score\":0.7312458157539368}]\n",
      "[{\"label\":\"LABEL_4\",\"score\":0.5298811793327332}]\n",
      "[{\"label\":\"LABEL_3\",\"score\":0.9903153777122498}]\n",
      "[{\"label\":\"LABEL_3\",\"score\":0.7150442600250244}]\n",
      "[{\"label\":\"LABEL_3\",\"score\":0.3872857987880707}]\n",
      "[{\"label\":\"LABEL_4\",\"score\":0.9656223058700562}]\n",
      "[{\"label\":\"LABEL_1\",\"score\":0.9487020969390869}]\n",
      "[{\"label\":\"LABEL_3\",\"score\":0.9907267093658447}]\n",
      "[{\"label\":\"LABEL_1\",\"score\":0.3197236657142639}]\n",
      "[{\"label\":\"LABEL_3\",\"score\":0.9903152585029602}]\n",
      "[{\"label\":\"LABEL_1\",\"score\":0.7517138123512268}]\n",
      "[{\"label\":\"LABEL_4\",\"score\":0.891867995262146}]\n",
      "[{\"label\":\"LABEL_3\",\"score\":0.6797960996627808}]\n",
      "[{\"label\":\"LABEL_4\",\"score\":0.9192507266998291}]\n",
      "[{\"label\":\"LABEL_4\",\"score\":0.5507851839065552}]\n",
      "[{\"label\":\"LABEL_3\",\"score\":0.8143513202667236}]\n",
      "[{\"label\":\"LABEL_3\",\"score\":0.9909664392471313}]\n",
      "[{\"label\":\"LABEL_3\",\"score\":0.9888324737548828}]\n",
      "[{\"label\":\"LABEL_3\",\"score\":0.5397582054138184}]\n",
      "[{\"label\":\"LABEL_1\",\"score\":0.9692143201828003}]\n",
      "[{\"label\":\"LABEL_3\",\"score\":0.39753350615501404}]\n",
      "[{\"label\":\"LABEL_3\",\"score\":0.43783172965049744}]\n",
      "[{\"label\":\"LABEL_1\",\"score\":0.993498682975769}]\n",
      "[{\"label\":\"LABEL_4\",\"score\":0.4174758195877075}]\n",
      "[{\"label\":\"LABEL_1\",\"score\":0.680585503578186}]\n",
      "[{\"label\":\"LABEL_4\",\"score\":0.4344843626022339}]\n",
      "[{\"label\":\"LABEL_1\",\"score\":0.9822865128517151}]\n",
      "[{\"label\":\"LABEL_4\",\"score\":0.983954906463623}]\n",
      "[{\"label\":\"LABEL_1\",\"score\":0.6243789792060852}]\n",
      "[{\"label\":\"LABEL_3\",\"score\":0.9910051822662354}]\n",
      "[{\"label\":\"LABEL_3\",\"score\":0.9928770661354065}]\n",
      "[{\"label\":\"LABEL_4\",\"score\":0.42672184109687805}]\n",
      "[{\"label\":\"LABEL_3\",\"score\":0.9937631487846375}]\n",
      "[{\"label\":\"LABEL_3\",\"score\":0.9882227778434753}]\n",
      "[{\"label\":\"LABEL_4\",\"score\":0.9767521023750305}]\n",
      "[{\"label\":\"LABEL_4\",\"score\":0.337463915348053}]\n",
      "[{\"label\":\"LABEL_3\",\"score\":0.7511951923370361}]\n",
      "[{\"label\":\"LABEL_4\",\"score\":0.986261785030365}]\n",
      "[{\"label\":\"LABEL_3\",\"score\":0.9938179850578308}]\n",
      "[{\"label\":\"LABEL_1\",\"score\":0.9899237751960754}]\n",
      "[{\"label\":\"LABEL_3\",\"score\":0.8342671394348145}]\n",
      "[{\"label\":\"LABEL_3\",\"score\":0.9054344296455383}]\n",
      "[{\"label\":\"LABEL_3\",\"score\":0.9924343824386597}]\n",
      "[{\"label\":\"LABEL_4\",\"score\":0.8747812509536743}]\n",
      "[{\"label\":\"LABEL_1\",\"score\":0.9636462330818176}]\n",
      "[{\"label\":\"LABEL_4\",\"score\":0.9825319051742554}]\n",
      "[{\"label\":\"LABEL_3\",\"score\":0.43613260984420776}]\n",
      "[{\"label\":\"LABEL_1\",\"score\":0.9398795366287231}]\n",
      "[{\"label\":\"LABEL_3\",\"score\":0.553447961807251}]\n",
      "[{\"label\":\"LABEL_3\",\"score\":0.7124105095863342}]\n",
      "[{\"label\":\"LABEL_3\",\"score\":0.9629660248756409}]\n",
      "[{\"label\":\"LABEL_3\",\"score\":0.43081265687942505}]\n",
      "[{\"label\":\"LABEL_1\",\"score\":0.995230495929718}]\n",
      "[{\"label\":\"LABEL_4\",\"score\":0.7096960544586182}]\n",
      "[{\"label\":\"LABEL_3\",\"score\":0.9938933253288269}]\n",
      "[{\"label\":\"LABEL_1\",\"score\":0.5548875331878662}]\n",
      "[{\"label\":\"LABEL_1\",\"score\":0.9075326323509216}]\n",
      "[{\"label\":\"LABEL_3\",\"score\":0.9907717704772949}]\n",
      "[{\"label\":\"LABEL_1\",\"score\":0.5156795382499695}]\n",
      "[{\"label\":\"LABEL_3\",\"score\":0.8792173862457275}]\n",
      "[{\"label\":\"LABEL_4\",\"score\":0.9336279630661011}]\n",
      "[{\"label\":\"LABEL_1\",\"score\":0.953971803188324}]\n",
      "[{\"label\":\"LABEL_3\",\"score\":0.5311759114265442}]\n",
      "[{\"label\":\"LABEL_3\",\"score\":0.9940934777259827}]\n",
      "[{\"label\":\"LABEL_3\",\"score\":0.9676952958106995}]\n",
      "[{\"label\":\"LABEL_3\",\"score\":0.6005544066429138}]\n",
      "[{\"label\":\"LABEL_3\",\"score\":0.9587451815605164}]\n",
      "[{\"label\":\"LABEL_1\",\"score\":0.4609556198120117}]\n",
      "[{\"label\":\"LABEL_1\",\"score\":0.9143566489219666}]\n",
      "[{\"label\":\"LABEL_4\",\"score\":0.933589518070221}]\n",
      "[{\"label\":\"LABEL_4\",\"score\":0.6725308895111084}]\n",
      "[{\"label\":\"LABEL_4\",\"score\":0.38143739104270935}]\n",
      "[{\"label\":\"LABEL_1\",\"score\":0.9267228245735168}]\n",
      "[{\"label\":\"LABEL_4\",\"score\":0.9529514908790588}]\n",
      "[{\"label\":\"LABEL_1\",\"score\":0.4617772698402405}]\n",
      "[{\"label\":\"LABEL_4\",\"score\":0.9550815224647522}]\n",
      "[{\"label\":\"LABEL_3\",\"score\":0.4935722053050995}]\n",
      "[{\"label\":\"LABEL_3\",\"score\":0.9945871829986572}]\n",
      "[{\"label\":\"LABEL_1\",\"score\":0.9892838597297668}]\n",
      "[{\"label\":\"LABEL_1\",\"score\":0.9021178483963013}]\n",
      "[{\"label\":\"LABEL_3\",\"score\":0.992967963218689}]\n",
      "[{\"label\":\"LABEL_1\",\"score\":0.7104590535163879}]\n",
      "[{\"label\":\"LABEL_3\",\"score\":0.5307102799415588}]\n",
      "[{\"label\":\"LABEL_4\",\"score\":0.6319840550422668}]\n",
      "[{\"label\":\"LABEL_3\",\"score\":0.9935898780822754}]\n",
      "[{\"label\":\"LABEL_4\",\"score\":0.8896123766899109}]\n",
      "[{\"label\":\"LABEL_1\",\"score\":0.9492112398147583}]\n",
      "[{\"label\":\"LABEL_3\",\"score\":0.6764875054359436}]\n",
      "[{\"label\":\"LABEL_3\",\"score\":0.9848363995552063}]\n",
      "[{\"label\":\"LABEL_1\",\"score\":0.8458338379859924}]\n",
      "[{\"label\":\"LABEL_4\",\"score\":0.979333221912384}]\n",
      "[{\"label\":\"LABEL_3\",\"score\":0.9940568208694458}]\n",
      "[{\"label\":\"LABEL_3\",\"score\":0.9920859932899475}]\n",
      "[{\"label\":\"LABEL_1\",\"score\":0.44546541571617126}]\n",
      "[{\"label\":\"LABEL_4\",\"score\":0.9775539040565491}]\n",
      "[{\"label\":\"LABEL_3\",\"score\":0.9943898320198059}]\n",
      "[{\"label\":\"LABEL_3\",\"score\":0.37230244278907776}]\n",
      "[{\"label\":\"LABEL_3\",\"score\":0.44773977994918823}]\n",
      "[{\"label\":\"LABEL_1\",\"score\":0.6121572852134705}]\n",
      "[{\"label\":\"LABEL_3\",\"score\":0.8627054691314697}]\n",
      "[{\"label\":\"LABEL_3\",\"score\":0.9877896308898926}]\n",
      "[{\"label\":\"LABEL_3\",\"score\":0.970064640045166}]\n",
      "[{\"label\":\"LABEL_1\",\"score\":0.7479845881462097}]\n",
      "[{\"label\":\"LABEL_1\",\"score\":0.9941376447677612}]\n",
      "[{\"label\":\"LABEL_4\",\"score\":0.5246725678443909}]\n",
      "[{\"label\":\"LABEL_4\",\"score\":0.9818026423454285}]\n",
      "[{\"label\":\"LABEL_4\",\"score\":0.4275091588497162}]\n",
      "[{\"label\":\"LABEL_4\",\"score\":0.3513454794883728}]\n",
      "[{\"label\":\"LABEL_3\",\"score\":0.4728950560092926}]\n",
      "[{\"label\":\"LABEL_1\",\"score\":0.7516534924507141}]\n",
      "[{\"label\":\"LABEL_4\",\"score\":0.9500656127929688}]\n",
      "[{\"label\":\"LABEL_0\",\"score\":0.484409362077713}]\n",
      "[{\"label\":\"LABEL_3\",\"score\":0.9857239127159119}]\n",
      "[{\"label\":\"LABEL_3\",\"score\":0.8859170079231262}]\n",
      "[{\"label\":\"LABEL_4\",\"score\":0.8319252133369446}]\n",
      "[{\"label\":\"LABEL_0\",\"score\":0.9502894878387451}]\n",
      "[{\"label\":\"LABEL_4\",\"score\":0.4891379475593567}]\n",
      "[{\"label\":\"LABEL_3\",\"score\":0.8888140320777893}]\n",
      "[{\"label\":\"LABEL_3\",\"score\":0.854394793510437}]\n",
      "[{\"label\":\"LABEL_1\",\"score\":0.7916585803031921}]\n",
      "[{\"label\":\"LABEL_1\",\"score\":0.8203396797180176}]\n",
      "[{\"label\":\"LABEL_4\",\"score\":0.9678804278373718}]\n",
      "[{\"label\":\"LABEL_4\",\"score\":0.986810564994812}]\n",
      "[{\"label\":\"LABEL_1\",\"score\":0.9084093570709229}]\n",
      "[{\"label\":\"LABEL_3\",\"score\":0.9833884239196777}]\n",
      "[{\"label\":\"LABEL_3\",\"score\":0.5412163138389587}]\n",
      "[{\"label\":\"LABEL_4\",\"score\":0.7434520125389099}]\n",
      "[{\"label\":\"LABEL_3\",\"score\":0.9769083261489868}]\n",
      "[{\"label\":\"LABEL_3\",\"score\":0.7615734338760376}]\n",
      "[{\"label\":\"LABEL_3\",\"score\":0.9562657475471497}]\n",
      "[{\"label\":\"LABEL_3\",\"score\":0.76507169008255}]\n",
      "[{\"label\":\"LABEL_4\",\"score\":0.4061594307422638}]\n",
      "[{\"label\":\"LABEL_1\",\"score\":0.8124154806137085}]\n",
      "[{\"label\":\"LABEL_3\",\"score\":0.9890275001525879}]\n",
      "[{\"label\":\"LABEL_3\",\"score\":0.927888035774231}]\n",
      "[{\"label\":\"LABEL_4\",\"score\":0.5377411246299744}]\n",
      "[{\"label\":\"LABEL_3\",\"score\":0.8894598484039307}]\n",
      "[{\"label\":\"LABEL_3\",\"score\":0.967073380947113}]\n",
      "[{\"label\":\"LABEL_4\",\"score\":0.874347984790802}]\n",
      "[{\"label\":\"LABEL_3\",\"score\":0.9933370351791382}]\n",
      "[{\"label\":\"LABEL_4\",\"score\":0.9727091789245605}]\n",
      "[{\"label\":\"LABEL_4\",\"score\":0.9904260039329529}]\n",
      "[{\"label\":\"LABEL_4\",\"score\":0.5980985760688782}]\n",
      "[{\"label\":\"LABEL_1\",\"score\":0.4380442500114441}]\n",
      "[{\"label\":\"LABEL_4\",\"score\":0.9817627668380737}]\n",
      "[{\"label\":\"LABEL_3\",\"score\":0.9932551383972168}]\n",
      "[{\"label\":\"LABEL_0\",\"score\":0.9694705009460449}]\n",
      "[{\"label\":\"LABEL_4\",\"score\":0.582816481590271}]\n",
      "[{\"label\":\"LABEL_1\",\"score\":0.9811193943023682}]\n",
      "[{\"label\":\"LABEL_4\",\"score\":0.9486295580863953}]\n",
      "[{\"label\":\"LABEL_1\",\"score\":0.9781347513198853}]\n",
      "[{\"label\":\"LABEL_4\",\"score\":0.9876939058303833}]\n",
      "[{\"label\":\"LABEL_0\",\"score\":0.908807635307312}]\n",
      "[{\"label\":\"LABEL_1\",\"score\":0.34428900480270386}]\n",
      "[{\"label\":\"LABEL_1\",\"score\":0.8552864193916321}]\n",
      "[{\"label\":\"LABEL_3\",\"score\":0.6502810716629028}]\n",
      "[{\"label\":\"LABEL_1\",\"score\":0.8449245095252991}]\n",
      "[{\"label\":\"LABEL_3\",\"score\":0.9179843664169312}]\n",
      "[{\"label\":\"LABEL_3\",\"score\":0.9897515773773193}]\n",
      "[{\"label\":\"LABEL_3\",\"score\":0.992587149143219}]\n",
      "[{\"label\":\"LABEL_4\",\"score\":0.9567538499832153}]\n",
      "[{\"label\":\"LABEL_3\",\"score\":0.9940272569656372}]\n",
      "[{\"label\":\"LABEL_3\",\"score\":0.9929524064064026}]\n",
      "[{\"label\":\"LABEL_1\",\"score\":0.4207717478275299}]\n",
      "[{\"label\":\"LABEL_3\",\"score\":0.9911012649536133}]\n",
      "[{\"label\":\"LABEL_3\",\"score\":0.707951009273529}]\n",
      "[{\"label\":\"LABEL_1\",\"score\":0.9506696462631226}]\n",
      "[{\"label\":\"LABEL_3\",\"score\":0.7875410914421082}]\n",
      "[{\"label\":\"LABEL_4\",\"score\":0.9015666246414185}]\n",
      "[{\"label\":\"LABEL_1\",\"score\":0.712509036064148}]\n",
      "[{\"label\":\"LABEL_1\",\"score\":0.5779173374176025}]\n",
      "[{\"label\":\"LABEL_4\",\"score\":0.5985520482063293}]\n",
      "[{\"label\":\"LABEL_3\",\"score\":0.4479386508464813}]\n",
      "[{\"label\":\"LABEL_3\",\"score\":0.9931012392044067}]\n",
      "[{\"label\":\"LABEL_3\",\"score\":0.6783661246299744}]\n",
      "[{\"label\":\"LABEL_3\",\"score\":0.992849588394165}]\n"
     ]
    }
   ],
   "source": [
    "import json\n",
    "import boto3\n",
    "\n",
    "client = boto3.client('runtime.sagemaker')\n",
    "payload = {\"inputs\": \"The modem is an internal AT/(E)ISA 8-bit card (just a little longer than a half-card).\"}\n",
    "for i in range(len(Payloads)):\n",
    "    Payloads[i]['inputs'] = Payloads[i]['generated_text']\n",
    "    del Payloads[i]['generated_text']\n",
    "    response = client.invoke_endpoint(EndpointName='huggingface-pytorch-training-2022-10-05-23-57-02-171', \n",
    "                                      ContentType=\"application/json\",\n",
    "                                      Body=json.dumps(Payloads[i]),\n",
    "                                     )\n",
    "    print(response[\"Body\"].read().decode())"
   ]
  },
  {
   "cell_type": "markdown",
   "metadata": {},
   "source": [
    "## Clean up\n",
    "\n",
    "Endpoints should be deleted when no longer in use, since (per the [SageMaker pricing page](https://aws.amazon.com/sagemaker/pricing/)) they're billed by time deployed."
   ]
  },
  {
   "cell_type": "code",
   "execution_count": null,
   "metadata": {},
   "outputs": [],
   "source": [
    "predictor.delete_endpoint()"
   ]
  },
  {
   "cell_type": "markdown",
   "metadata": {},
   "source": [
    "## Conclusion\n",
    "\n",
    "In this notebook you successfully ran SageMaker Training Job with the HuggingFace framework to fine-tune a pre-trained transformer on text classification using the `20 newsgroups dataset` dataset.\n",
    "Then, you prepared the Serverless configuration required, and deployed your model to SageMaker Serverless Endpoint. Finally, you invoked the Serverless endpoint with sample data and got the prediction results.\n",
    "\n",
    "As next steps, you can try running SageMaker Training Jobs with your own algorithm and your own data, and deploy the model to SageMaker Serverless Endpoint."
   ]
  },
  {
   "cell_type": "code",
   "execution_count": null,
   "metadata": {},
   "outputs": [],
   "source": []
  }
 ],
 "metadata": {
  "instance_type": "ml.t3.medium",
  "interpreter": {
   "hash": "c281c456f1b8161c8906f4af2c08ed2c40c50136979eaae69688b01f70e9f4a9"
  },
  "kernelspec": {
   "display_name": "Python 3 (PyTorch 1.10 Python 3.8 GPU Optimized)",
   "language": "python",
   "name": "python3__SAGEMAKER_INTERNAL__arn:aws:sagemaker:us-east-1:081325390199:image/pytorch-1.10-gpu-py38"
  },
  "language_info": {
   "codemirror_mode": {
    "name": "ipython",
    "version": 3
   },
   "file_extension": ".py",
   "mimetype": "text/x-python",
   "name": "python",
   "nbconvert_exporter": "python",
   "pygments_lexer": "ipython3",
   "version": "3.8.10"
  }
 },
 "nbformat": 4,
 "nbformat_minor": 4
}
